{
  "cells": [
    {
      "cell_type": "markdown",
      "id": "9c3f3593-9678-40c8-aa96-d78c6cea0b5d",
      "metadata": {},
      "source": [
        "# Backward Stability by Example\n",
        "\n",
        "Copyright (C) 2024 Andreas Kloeckner\n",
        "\n",
        "<details>\n",
        "<summary>MIT License</summary>\n",
        "Permission is hereby granted, free of charge, to any person obtaining a copy\n",
        "of this software and associated documentation files (the \"Software\"), to deal\n",
        "in the Software without restriction, including without limitation the rights\n",
        "to use, copy, modify, merge, publish, distribute, sublicense, and/or sell\n",
        "copies of the Software, and to permit persons to whom the Software is\n",
        "furnished to do so, subject to the following conditions:\n",
        "\n",
        "The above copyright notice and this permission notice shall be included in\n",
        "all copies or substantial portions of the Software.\n",
        "\n",
        "THE SOFTWARE IS PROVIDED \"AS IS\", WITHOUT WARRANTY OF ANY KIND, EXPRESS OR\n",
        "IMPLIED, INCLUDING BUT NOT LIMITED TO THE WARRANTIES OF MERCHANTABILITY,\n",
        "FITNESS FOR A PARTICULAR PURPOSE AND NONINFRINGEMENT. IN NO EVENT SHALL THE\n",
        "AUTHORS OR COPYRIGHT HOLDERS BE LIABLE FOR ANY CLAIM, DAMAGES OR OTHER\n",
        "LIABILITY, WHETHER IN AN ACTION OF CONTRACT, TORT OR OTHERWISE, ARISING FROM,\n",
        "OUT OF OR IN CONNECTION WITH THE SOFTWARE OR THE USE OR OTHER DEALINGS IN\n",
        "THE SOFTWARE.\n",
        "</details>"
      ]
    },
    {
      "cell_type": "code",
      "execution_count": 2,
      "id": "d3bc1af9-fdbf-459d-a778-94f733a8ffcd",
      "metadata": {},
      "outputs": [],
      "source": [
        "import numpy as np\n",
        "import numpy.linalg as la"
      ]
    },
    {
      "cell_type": "markdown",
      "id": "aa5c47a5-84ac-47d4-89dc-eb93011b3e17",
      "metadata": {},
      "source": [
        "Make an example of a very poorly conditioned matrix, called the [Vandermonde matrix](https://en.wikipedia.org/wiki/Vandermonde_matrix)."
      ]
    },
    {
      "cell_type": "code",
      "execution_count": 27,
      "id": "1f754487-a640-4417-9458-2eab86af4a46",
      "metadata": {},
      "outputs": [],
      "source": [
        "n = 20\n",
        "nodes = np.linspace(0, 1, n)\n",
        "A = nodes.reshape(-1, 1) ** np.arange(n)"
      ]
    },
    {
      "cell_type": "markdown",
      "id": "c4e2ffc6-8df1-4435-bec6-df6c95877dae",
      "metadata": {},
      "source": [
        "Check the condition number:"
      ]
    },
    {
      "cell_type": "code",
      "execution_count": 40,
      "id": "3f3e4c86-70ab-4854-8575-d544f0354040",
      "metadata": {},
      "outputs": [],
      "source": []
    },
    {
      "cell_type": "markdown",
      "id": "0ec7b383-7cfe-4949-873d-ea88b07db276",
      "metadata": {},
      "source": [
        "Set up a \"true\" solution, and a right-hand side for a linear system:"
      ]
    },
    {
      "cell_type": "code",
      "execution_count": 29,
      "id": "42c421b9-0fe3-4aba-8ef3-ef4b5c0279cf",
      "metadata": {},
      "outputs": [],
      "source": [
        "xtrue = np.random.randn(n)\n",
        "b = A @ xtrue"
      ]
    },
    {
      "cell_type": "markdown",
      "id": "3264dbc7-8652-4312-83f1-d67f8ee0c711",
      "metadata": {},
      "source": [
        "Solve it computationally, call the solution `xcomp`:"
      ]
    },
    {
      "cell_type": "code",
      "execution_count": 73,
      "id": "f4f974c8-a719-421b-8b5a-e6f37777ad0b",
      "metadata": {},
      "outputs": [],
      "source": []
    },
    {
      "cell_type": "markdown",
      "id": "8d432d92-acfa-4ddd-ad98-a7a0c5ad0a75",
      "metadata": {},
      "source": [
        "Compute the **relative forward error** (i.e. the error in the solution):"
      ]
    },
    {
      "cell_type": "code",
      "execution_count": 74,
      "id": "81214f81-a176-4627-9ddf-549fb3d271d0",
      "metadata": {},
      "outputs": [],
      "source": []
    },
    {
      "cell_type": "markdown",
      "id": "2e2678f8-7948-4ca0-bf82-312eee3b08d0",
      "metadata": {},
      "source": [
        "Compute the\n",
        "\n",
        "- **relative backward error**\n",
        "- i.e. the relative error in the right-hand side\n",
        "- also known as the **relative residual**."
      ]
    },
    {
      "cell_type": "code",
      "execution_count": 75,
      "id": "26fac4f3-5c53-49a6-9606-2c36e5cd1507",
      "metadata": {},
      "outputs": [],
      "source": []
    },
    {
      "cell_type": "markdown",
      "id": "c8a11b12-ae15-4187-a37f-d76d9bbbb171",
      "metadata": {},
      "source": [
        "### Input Perturbation\n",
        "\n",
        "Now *intentionally* perturb the right-hand side and repeat the experiment"
      ]
    },
    {
      "cell_type": "code",
      "execution_count": 68,
      "id": "5209560e-3817-4952-a19f-fa4f9974587a",
      "metadata": {},
      "outputs": [],
      "source": []
    },
    {
      "cell_type": "markdown",
      "id": "2a894393-8527-4d82-9c3e-350253483a92",
      "metadata": {},
      "source": [
        "Find the relative forward error vs `xtrue`:"
      ]
    },
    {
      "cell_type": "code",
      "execution_count": 62,
      "id": "d2012478-6bb4-4e73-9363-7eacf4bd1b06",
      "metadata": {},
      "outputs": [],
      "source": [
        "la.norm(xcomp_perturbed - xtrue, 2)/la.norm(xtrue, 2)"
      ]
    },
    {
      "cell_type": "markdown",
      "id": "52d65b10-bf83-48f5-aa58-1663241d779f",
      "metadata": {},
      "source": [
        "Find the relative forward error vs `xcomp`:"
      ]
    },
    {
      "cell_type": "code",
      "execution_count": 63,
      "id": "60e448e6-ae7c-4688-aa04-729b345f2c9b",
      "metadata": {},
      "outputs": [],
      "source": [
        "la.norm(xcomp_perturbed - xcomp, 2)/la.norm(xtrue, 2)"
      ]
    },
    {
      "cell_type": "markdown",
      "id": "8785bf6e-983d-4348-b087-6adea00f9f6c",
      "metadata": {},
      "source": [
        "And the relative backward error:"
      ]
    },
    {
      "cell_type": "code",
      "execution_count": 64,
      "id": "0caa64b2-e39c-478c-b44f-6778726ed134",
      "metadata": {},
      "outputs": [],
      "source": [
        "la.norm(A@xcomp_perturbed - b, 2)/la.norm(b, 2)"
      ]
    },
    {
      "cell_type": "markdown",
      "id": "31acad74-a796-4fea-956f-387ea1cb0524",
      "metadata": {},
      "source": [
        "### Can we take backward stability for granted?\n",
        "\n",
        "Here's code for (mostly) straightforward Gauss-Jordan elimination to solve a linear system:"
      ]
    },
    {
      "cell_type": "code",
      "execution_count": 79,
      "id": "356bafaf-4534-4f1a-9a61-4b4f05e20e58",
      "metadata": {},
      "outputs": [],
      "source": [
        "def mylinsolve(A, b):\n",
        "    n = len(A)\n",
        "    Ab = np.concatenate([A, b.reshape(-1, 1)], axis=1)\n",
        "    \n",
        "    # reverse the rows\n",
        "    Ab = Ab[::-1]\n",
        "    \n",
        "    for col in range(n):\n",
        "        Ab[col] /= Ab[col, col]\n",
        "    \n",
        "        for row in range(n):\n",
        "            if col == row:\n",
        "                continue\n",
        "            Ab[row] -= Ab[col]*Ab[row, col]\n",
        "\n",
        "    return Ab[:, -1]"
      ]
    },
    {
      "cell_type": "markdown",
      "id": "73302566-8590-44e9-b20d-9ea185d39332",
      "metadata": {},
      "source": [
        "Test that it solves linear systems:"
      ]
    },
    {
      "cell_type": "code",
      "execution_count": 72,
      "id": "12bab70c-df76-41fe-93d6-ea6abc590f46",
      "metadata": {},
      "outputs": [],
      "source": [
        "Atest = np.random.randn(5, 5)\n",
        "btest = np.random.randn(5)\n",
        "\n",
        "xtest = la.solve(Atest, btest)\n",
        "\n",
        "la.norm(mylinsolve(Atest, btest) - xtest, 2) / la.norm(xtest, 2)"
      ]
    },
    {
      "cell_type": "markdown",
      "id": "8d2a1755-abd1-42f1-ad66-478baf45cbea",
      "metadata": {},
      "source": [
        "Now repeat the above experiments with `mylinsolve`."
      ]
    },
    {
      "cell_type": "code",
      "execution_count": null,
      "id": "59073fe0-5c89-4e11-b7f4-63a11396228a",
      "metadata": {},
      "outputs": [],
      "source": []
    }
  ],
  "metadata": {
    "kernelspec": {
      "display_name": "Python 3 (ipykernel)",
      "language": "python",
      "name": "python3"
    },
    "language_info": {
      "codemirror_mode": {
        "name": "ipython",
        "version": 3
      },
      "file_extension": ".py",
      "mimetype": "text/x-python",
      "name": "python",
      "nbconvert_exporter": "python",
      "pygments_lexer": "ipython3",
      "version": "3.12.4"
    }
  },
  "nbformat": 4,
  "nbformat_minor": 5
}