{
  "cells": [
    {
      "cell_type": "markdown",
      "metadata": {},
      "source": [
        "# Newton's method in $n$ dimensions\n",
        "\n",
        "Copyright (C) 2020 Andreas Kloeckner\n",
        "\n",
        "<details>\n",
        "<summary>MIT License</summary>\n",
        "Permission is hereby granted, free of charge, to any person obtaining a copy\n",
        "of this software and associated documentation files (the \"Software\"), to deal\n",
        "in the Software without restriction, including without limitation the rights\n",
        "to use, copy, modify, merge, publish, distribute, sublicense, and/or sell\n",
        "copies of the Software, and to permit persons to whom the Software is\n",
        "furnished to do so, subject to the following conditions:\n",
        "\n",
        "The above copyright notice and this permission notice shall be included in\n",
        "all copies or substantial portions of the Software.\n",
        "\n",
        "THE SOFTWARE IS PROVIDED \"AS IS\", WITHOUT WARRANTY OF ANY KIND, EXPRESS OR\n",
        "IMPLIED, INCLUDING BUT NOT LIMITED TO THE WARRANTIES OF MERCHANTABILITY,\n",
        "FITNESS FOR A PARTICULAR PURPOSE AND NONINFRINGEMENT. IN NO EVENT SHALL THE\n",
        "AUTHORS OR COPYRIGHT HOLDERS BE LIABLE FOR ANY CLAIM, DAMAGES OR OTHER\n",
        "LIABILITY, WHETHER IN AN ACTION OF CONTRACT, TORT OR OTHERWISE, ARISING FROM,\n",
        "OUT OF OR IN CONNECTION WITH THE SOFTWARE OR THE USE OR OTHER DEALINGS IN\n",
        "THE SOFTWARE.\n",
        "</details>"
      ]
    },
    {
      "cell_type": "code",
      "execution_count": 36,
      "metadata": {
        "collapsed": false,
        "jupyter": {
          "outputs_hidden": false
        }
      },
      "outputs": [],
      "source": [
        "import numpy as np\n",
        "import numpy.linalg as la\n",
        "\n",
        "import scipy.optimize as sopt\n",
        "\n",
        "import matplotlib.pyplot as pt\n",
        "from mpl_toolkits.mplot3d import axes3d"
      ]
    },
    {
      "cell_type": "markdown",
      "metadata": {},
      "source": [
        "Here are two functions. The first one is an oblong \"bowl-shaped\" one made of quadratic functions."
      ]
    },
    {
      "cell_type": "code",
      "execution_count": 37,
      "metadata": {
        "collapsed": false,
        "jupyter": {
          "outputs_hidden": false
        }
      },
      "outputs": [],
      "source": [
        "def f(x):\n",
        "    return 0.5*x[0]**2 + 2.5*x[1]**2\n",
        "\n",
        "def df(x):\n",
        "    return np.array([x[0], 5*x[1]])\n",
        "\n",
        "def ddf(x):\n",
        "    return np.array([\n",
        "                     [1,0],\n",
        "                     [0,5]\n",
        "                     ])"
      ]
    },
    {
      "cell_type": "markdown",
      "metadata": {},
      "source": [
        "The second one is a challenge problem for optimization algorithms known as [Rosenbrock's banana function](https://en.wikipedia.org/wiki/Rosenbrock_function)."
      ]
    },
    {
      "cell_type": "code",
      "execution_count": 4,
      "metadata": {
        "collapsed": false,
        "jupyter": {
          "outputs_hidden": false
        }
      },
      "outputs": [],
      "source": [
        "\n",
        "def f(X):\n",
        "    x = X[0]\n",
        "    y = X[1]\n",
        "    val = 100.0 * (y - x**2)**2 + (1.0 - x)**2\n",
        "    return val\n",
        "\n",
        "def df(X):\n",
        "    x = X[0]\n",
        "    y = X[1]\n",
        "    val1 = 400.0 * (y - x**2) * x - 2 * x\n",
        "    val2 = 200.0 * (y - x**2)\n",
        "    return np.array([val1, val2])\n",
        "\n",
        "def ddf(X):\n",
        "    x = X[0]\n",
        "    y = X[1]\n",
        "    val11 = 400.0 * (y - x**2) - 800.0 * x**2 - 2\n",
        "    val12 = 400.0\n",
        "    val21 = -400.0 * x\n",
        "    val22 = 200.0\n",
        "    return np.array([[val11, val12], [val21, val22]])"
      ]
    },
    {
      "cell_type": "markdown",
      "metadata": {},
      "source": [
        "Let's take a look at these functions. First in 3D:"
      ]
    },
    {
      "cell_type": "code",
      "execution_count": 38,
      "metadata": {
        "collapsed": false,
        "jupyter": {
          "outputs_hidden": false
        }
      },
      "outputs": [],
      "source": [
        "ax = pt.figure().add_subplot(projection=\"3d\")\n",
        "\n",
        "xmesh, ymesh = np.mgrid[-2:2:50j,-2:2:50j]\n",
        "fmesh = f(np.array([xmesh, ymesh]))\n",
        "ax.plot_surface(xmesh, ymesh, fmesh,\n",
        "                alpha=0.3, cmap=pt.cm.coolwarm, rstride=3, cstride=3)"
      ]
    },
    {
      "cell_type": "markdown",
      "metadata": {},
      "source": [
        "Then as a \"contour plot\":"
      ]
    },
    {
      "cell_type": "code",
      "execution_count": 39,
      "metadata": {
        "collapsed": false,
        "jupyter": {
          "outputs_hidden": false
        }
      },
      "outputs": [],
      "source": [
        "pt.axis(\"equal\")\n",
        "pt.contour(xmesh, ymesh, fmesh, 50)"
      ]
    },
    {
      "cell_type": "markdown",
      "metadata": {},
      "source": [
        "* You may need to add contours to seee more detail.\n",
        "* The function is *not* symmetric about the y axis!"
      ]
    },
    {
      "cell_type": "markdown",
      "metadata": {},
      "source": [
        "### Newton"
      ]
    },
    {
      "cell_type": "markdown",
      "metadata": {},
      "source": [
        "First, initialize:"
      ]
    },
    {
      "cell_type": "code",
      "execution_count": 44,
      "metadata": {
        "collapsed": false,
        "jupyter": {
          "outputs_hidden": false
        }
      },
      "outputs": [],
      "source": [
        "guesses = [np.array([2, 2./5])]"
      ]
    },
    {
      "cell_type": "markdown",
      "metadata": {},
      "source": [
        "Then evaluate this cell lots of times:"
      ]
    },
    {
      "cell_type": "code",
      "execution_count": 52,
      "metadata": {
        "collapsed": false,
        "jupyter": {
          "outputs_hidden": false
        }
      },
      "outputs": [],
      "source": []
    },
    {
      "cell_type": "markdown",
      "metadata": {},
      "source": [
        "Here's some plotting code to see what's going on:"
      ]
    },
    {
      "cell_type": "code",
      "execution_count": 53,
      "metadata": {
        "collapsed": false,
        "jupyter": {
          "outputs_hidden": false
        }
      },
      "outputs": [],
      "source": [
        "pt.axis(\"equal\")\n",
        "pt.contour(xmesh, ymesh, fmesh, 50)\n",
        "it_array = np.array(guesses)\n",
        "pt.plot(it_array.T[0], it_array.T[1], \"x-\")"
      ]
    },
    {
      "cell_type": "markdown",
      "metadata": {},
      "source": [
        "### For comparison: Conjugate Gradients (\"CG\") -- later in the class\n",
        "\n",
        "Initialize the method:"
      ]
    },
    {
      "cell_type": "code",
      "execution_count": 54,
      "metadata": {
        "collapsed": false,
        "jupyter": {
          "outputs_hidden": false
        }
      },
      "outputs": [],
      "source": [
        "x0 = np.array([2, 2./5])\n",
        "#x0 = np.array([2, 1])\n",
        "\n",
        "iterates = [x0]\n",
        "gradients = [df(x0)]\n",
        "directions = [-df(x0)]"
      ]
    },
    {
      "cell_type": "markdown",
      "metadata": {},
      "source": [
        "Evaluate this cell many times in-place:"
      ]
    },
    {
      "cell_type": "code",
      "execution_count": 56,
      "metadata": {
        "collapsed": false,
        "jupyter": {
          "outputs_hidden": false
        }
      },
      "outputs": [],
      "source": [
        "# Evaluate this cell many times in-place\n",
        "\n",
        "x = iterates[-1]\n",
        "s = directions[-1]\n",
        "\n",
        "def f1d(alpha):\n",
        "    return f(x + alpha*s)\n",
        "\n",
        "alpha_opt = sopt.golden(f1d)\n",
        "next_x = x + alpha_opt*s\n",
        "\n",
        "g = df(next_x)\n",
        "last_g = gradients[-1]\n",
        "gradients.append(g)\n",
        "\n",
        "beta = np.dot(g, g)/np.dot(last_g, last_g)\n",
        "directions.append(-g + beta*directions[-1])\n",
        "\n",
        "print(f(next_x))\n",
        "\n",
        "iterates.append(next_x)\n",
        "\n",
        "# plot function and iterates\n",
        "pt.axis(\"equal\")\n",
        "pt.contour(xmesh, ymesh, fmesh, 50)\n",
        "it_array = np.array(iterates)\n",
        "pt.plot(it_array.T[0], it_array.T[1], \"x-\")"
      ]
    },
    {
      "cell_type": "code",
      "execution_count": null,
      "metadata": {
        "collapsed": true,
        "jupyter": {
          "outputs_hidden": true
        }
      },
      "outputs": [],
      "source": []
    },
    {
      "cell_type": "code",
      "execution_count": null,
      "metadata": {
        "collapsed": true,
        "jupyter": {
          "outputs_hidden": true
        }
      },
      "outputs": [],
      "source": []
    }
  ],
  "metadata": {
    "kernelspec": {
      "display_name": "Python 3",
      "language": "python",
      "name": "python3"
    },
    "language_info": {
      "codemirror_mode": {
        "name": "ipython",
        "version": 3
      },
      "file_extension": ".py",
      "mimetype": "text/x-python",
      "name": "python",
      "nbconvert_exporter": "python",
      "pygments_lexer": "ipython3",
      "version": "3.8.3"
    }
  },
  "nbformat": 4,
  "nbformat_minor": 4
}