{
  "cells": [
    {
      "cell_type": "markdown",
      "metadata": {},
      "source": [
        "# Steepest Descent\n",
        "\n",
        "Copyright (C) 2020 Andreas Kloeckner\n",
        "\n",
        "<details>\n",
        "<summary>MIT License</summary>\n",
        "Permission is hereby granted, free of charge, to any person obtaining a copy\n",
        "of this software and associated documentation files (the \"Software\"), to deal\n",
        "in the Software without restriction, including without limitation the rights\n",
        "to use, copy, modify, merge, publish, distribute, sublicense, and/or sell\n",
        "copies of the Software, and to permit persons to whom the Software is\n",
        "furnished to do so, subject to the following conditions:\n",
        "\n",
        "The above copyright notice and this permission notice shall be included in\n",
        "all copies or substantial portions of the Software.\n",
        "\n",
        "THE SOFTWARE IS PROVIDED \"AS IS\", WITHOUT WARRANTY OF ANY KIND, EXPRESS OR\n",
        "IMPLIED, INCLUDING BUT NOT LIMITED TO THE WARRANTIES OF MERCHANTABILITY,\n",
        "FITNESS FOR A PARTICULAR PURPOSE AND NONINFRINGEMENT. IN NO EVENT SHALL THE\n",
        "AUTHORS OR COPYRIGHT HOLDERS BE LIABLE FOR ANY CLAIM, DAMAGES OR OTHER\n",
        "LIABILITY, WHETHER IN AN ACTION OF CONTRACT, TORT OR OTHERWISE, ARISING FROM,\n",
        "OUT OF OR IN CONNECTION WITH THE SOFTWARE OR THE USE OR OTHER DEALINGS IN\n",
        "THE SOFTWARE.\n",
        "</details>"
      ]
    },
    {
      "cell_type": "code",
      "execution_count": 3,
      "metadata": {
        "collapsed": false,
        "jupyter": {
          "outputs_hidden": false
        }
      },
      "outputs": [],
      "source": [
        "import numpy as np\n",
        "import numpy.linalg as la\n",
        "\n",
        "import scipy.optimize as sopt\n",
        "\n",
        "import matplotlib.pyplot as pt\n",
        "from mpl_toolkits.mplot3d import axes3d"
      ]
    },
    {
      "cell_type": "markdown",
      "metadata": {},
      "source": [
        "## Setup\n",
        "Here's a function. It's an oblong bowl made of two quadratic functions.\n",
        "\n",
        "This is pretty much the easiest 2D optimization job out there."
      ]
    },
    {
      "cell_type": "code",
      "execution_count": 4,
      "metadata": {
        "collapsed": false,
        "jupyter": {
          "outputs_hidden": false
        }
      },
      "outputs": [],
      "source": [
        "def f(x):\n",
        "    return 0.5*x[0]**2 + 2.5*x[1]**2\n",
        "\n",
        "def df(x):\n",
        "    return np.array([x[0], 5*x[1]])"
      ]
    },
    {
      "cell_type": "markdown",
      "metadata": {},
      "source": [
        "Let's take a look at the function. First in 3D:"
      ]
    },
    {
      "cell_type": "code",
      "execution_count": 5,
      "metadata": {
        "collapsed": false,
        "jupyter": {
          "outputs_hidden": false
        }
      },
      "outputs": [],
      "source": [
        "ax = pt.figure().add_subplot(projection='3d')\n",
        "\n",
        "xmesh, ymesh = np.mgrid[-2:2:50j,-2:2:50j]\n",
        "fmesh = f(np.array([xmesh, ymesh]))\n",
        "ax.plot_surface(xmesh, ymesh, fmesh)"
      ]
    },
    {
      "cell_type": "markdown",
      "metadata": {},
      "source": [
        "And then as a \"contour plot\":"
      ]
    },
    {
      "cell_type": "code",
      "execution_count": 6,
      "metadata": {
        "collapsed": false,
        "jupyter": {
          "outputs_hidden": false
        }
      },
      "outputs": [],
      "source": [
        "pt.axis(\"equal\")\n",
        "pt.contour(xmesh, ymesh, fmesh)"
      ]
    },
    {
      "cell_type": "markdown",
      "metadata": {},
      "source": [
        "## Part 1: Steepest Descent\n",
        "\n",
        "Next, initialize steepest descent with a starting guess:"
      ]
    },
    {
      "cell_type": "code",
      "execution_count": 319,
      "metadata": {
        "collapsed": false,
        "jupyter": {
          "outputs_hidden": false
        }
      },
      "outputs": [],
      "source": [
        "guesses = [np.array([2, 2./5])]"
      ]
    },
    {
      "cell_type": "markdown",
      "metadata": {},
      "source": [
        "Next, run Steepest Descent:"
      ]
    },
    {
      "cell_type": "code",
      "execution_count": 356,
      "metadata": {
        "collapsed": false,
        "jupyter": {
          "outputs_hidden": false
        }
      },
      "outputs": [],
      "source": []
    },
    {
      "cell_type": "markdown",
      "metadata": {},
      "source": [
        "Here's some plotting code to illustrate what just happened:"
      ]
    },
    {
      "cell_type": "code",
      "execution_count": 357,
      "metadata": {
        "collapsed": false,
        "jupyter": {
          "outputs_hidden": false
        }
      },
      "outputs": [],
      "source": [
        "pt.figure(figsize=(9, 9))\n",
        "pt.axis(\"equal\")\n",
        "pt.contour(xmesh, ymesh, fmesh, 50)\n",
        "it_array = np.array(guesses)\n",
        "pt.plot(it_array.T[0], it_array.T[1], \"x-\")"
      ]
    },
    {
      "cell_type": "code",
      "execution_count": 358,
      "metadata": {},
      "outputs": [],
      "source": [
        "for i, guess in enumerate(guesses):\n",
        "    print(i, la.norm(guess, 2))"
      ]
    },
    {
      "cell_type": "markdown",
      "metadata": {},
      "source": [
        "## Part 2: Adding in \"momentum\" / the \"heavy ball\" method\n",
        "\n",
        "Steepest descent with added \"momentum\" term:\n",
        "\n",
        "$$x_{k+1} = x_k - \\alpha \\nabla f(x_k) \\color{red}{+ \\beta (x_{k}-x_{k-1})}$$"
      ]
    },
    {
      "cell_type": "code",
      "execution_count": 285,
      "metadata": {},
      "outputs": [],
      "source": [
        "guesses = [np.array([2, 2./5])]\n",
        "\n",
        "# beta = 0.01\n",
        "beta = 0.1\n",
        "# beta = 0.5\n",
        "# beta = 1"
      ]
    },
    {
      "cell_type": "markdown",
      "metadata": {},
      "source": [
        "Explore different choices of the \"momentum parameter\" $\\beta$ above."
      ]
    },
    {
      "cell_type": "code",
      "execution_count": 312,
      "metadata": {},
      "outputs": [],
      "source": []
    },
    {
      "cell_type": "code",
      "execution_count": 317,
      "metadata": {},
      "outputs": [],
      "source": [
        "pt.figure(figsize=(9, 9))\n",
        "pt.axis(\"equal\")\n",
        "pt.contour(xmesh, ymesh, fmesh, 50)\n",
        "it_array = np.array(guesses)\n",
        "pt.plot(it_array.T[0], it_array.T[1], \"x-\")"
      ]
    },
    {
      "cell_type": "code",
      "execution_count": 315,
      "metadata": {},
      "outputs": [],
      "source": [
        "for i, guess in enumerate(guesses):\n",
        "    print(i, la.norm(guess, 2))"
      ]
    },
    {
      "cell_type": "code",
      "execution_count": null,
      "metadata": {},
      "outputs": [],
      "source": []
    }
  ],
  "metadata": {
    "kernelspec": {
      "display_name": "Python 3",
      "language": "python",
      "name": "python3"
    },
    "language_info": {
      "codemirror_mode": {
        "name": "ipython",
        "version": 3
      },
      "file_extension": ".py",
      "mimetype": "text/x-python",
      "name": "python",
      "nbconvert_exporter": "python",
      "pygments_lexer": "ipython3",
      "version": "3.9.7"
    }
  },
  "nbformat": 4,
  "nbformat_minor": 4
}