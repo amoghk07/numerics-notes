{
  "cells": [
    {
      "cell_type": "markdown",
      "metadata": {},
      "source": [
        "# Finding the Weights in Gaussian Quadrature\n",
        "\n",
        "Copyright (C) 2020 Andreas Kloeckner\n",
        "\n",
        "<details>\n",
        "<summary>MIT License</summary>\n",
        "Permission is hereby granted, free of charge, to any person obtaining a copy\n",
        "of this software and associated documentation files (the \"Software\"), to deal\n",
        "in the Software without restriction, including without limitation the rights\n",
        "to use, copy, modify, merge, publish, distribute, sublicense, and/or sell\n",
        "copies of the Software, and to permit persons to whom the Software is\n",
        "furnished to do so, subject to the following conditions:\n",
        "\n",
        "The above copyright notice and this permission notice shall be included in\n",
        "all copies or substantial portions of the Software.\n",
        "\n",
        "THE SOFTWARE IS PROVIDED \"AS IS\", WITHOUT WARRANTY OF ANY KIND, EXPRESS OR\n",
        "IMPLIED, INCLUDING BUT NOT LIMITED TO THE WARRANTIES OF MERCHANTABILITY,\n",
        "FITNESS FOR A PARTICULAR PURPOSE AND NONINFRINGEMENT. IN NO EVENT SHALL THE\n",
        "AUTHORS OR COPYRIGHT HOLDERS BE LIABLE FOR ANY CLAIM, DAMAGES OR OTHER\n",
        "LIABILITY, WHETHER IN AN ACTION OF CONTRACT, TORT OR OTHERWISE, ARISING FROM,\n",
        "OUT OF OR IN CONNECTION WITH THE SOFTWARE OR THE USE OR OTHER DEALINGS IN\n",
        "THE SOFTWARE.\n",
        "</details>"
      ]
    },
    {
      "cell_type": "code",
      "execution_count": 2,
      "metadata": {
        "collapsed": false,
        "jupyter": {
          "outputs_hidden": false
        }
      },
      "outputs": [],
      "source": [
        "import numpy as np\n",
        "import numpy.linalg as la\n",
        "import scipy.special as sps\n",
        "import matplotlib.pyplot as pt"
      ]
    },
    {
      "cell_type": "markdown",
      "metadata": {},
      "source": [
        "Here's a utility routine to do bisection, to use below:"
      ]
    },
    {
      "cell_type": "code",
      "execution_count": 18,
      "metadata": {
        "collapsed": true,
        "jupyter": {
          "outputs_hidden": true
        }
      },
      "outputs": [],
      "source": [
        "def bisection(f, a, b, tol=1e-14):\n",
        "    assert np.sign(f(a)) != np.sign(f(b))\n",
        "    while b-a > tol:\n",
        "        m = a + (b-a)/2\n",
        "        fm = f(m)\n",
        "        if np.sign(f(a)) != np.sign(fm):\n",
        "            b = m\n",
        "        else:\n",
        "            a = m\n",
        "            \n",
        "    return m"
      ]
    },
    {
      "cell_type": "markdown",
      "metadata": {},
      "source": [
        "Set the number of nodes:"
      ]
    },
    {
      "cell_type": "code",
      "execution_count": 3,
      "metadata": {
        "collapsed": false,
        "jupyter": {
          "outputs_hidden": false
        }
      },
      "outputs": [],
      "source": [
        "n = 5"
      ]
    },
    {
      "cell_type": "markdown",
      "metadata": {},
      "source": [
        "### Node selection: Plain Gauss"
      ]
    },
    {
      "cell_type": "markdown",
      "metadata": {},
      "source": [
        "Gauss nodes are the roots of the $n$th Legendre polynomial $P_n$:"
      ]
    },
    {
      "cell_type": "code",
      "execution_count": 5,
      "metadata": {
        "collapsed": false,
        "jupyter": {
          "outputs_hidden": false
        }
      },
      "outputs": [],
      "source": [
        "nodes = sps.legendre(n).weights[:, 0]\n",
        "\n",
        "mesh = np.linspace(-1, 1, 300)\n",
        "\n",
        "pt.plot(mesh, sps.eval_legendre(n, mesh))\n",
        "pt.plot(nodes, 0*nodes, \"o\")"
      ]
    },
    {
      "cell_type": "markdown",
      "metadata": {},
      "source": [
        "### Node Selection: Gauss-Lobatto"
      ]
    },
    {
      "cell_type": "markdown",
      "metadata": {},
      "source": [
        "Gauss-Lobatto nodes are (except for the endpoints) the roots of $P_{n-1}'$:\n",
        "\n",
        "(See [here](https://en.wikipedia.org/wiki/Legendre_polynomials#Additional_properties_of_Legendre_polynomials) or [here](http://dlmf.nist.gov/18.9.17) for a formula for $P_n'$.)"
      ]
    },
    {
      "cell_type": "code",
      "execution_count": 27,
      "metadata": {
        "collapsed": false,
        "jupyter": {
          "outputs_hidden": false
        }
      },
      "outputs": [],
      "source": [
        "def eval_legendre_deriv(n, x):\n",
        "    return (\n",
        "        (x*sps.eval_legendre(n, x) - sps.eval_legendre(n-1, x))\n",
        "        /\n",
        "        ((x**2-1)/n))\n",
        "\n",
        "brackets = sps.legendre(n-1).weights[:, 0]\n",
        "\n",
        "nodes = np.zeros(n)\n",
        "nodes[0] = -1\n",
        "nodes[-1] = 1\n",
        "\n",
        "from functools import partial\n",
        "\n",
        "# Use the fact that the roots of P_{n-1} bracket the roots of P_{n-1}':\n",
        "for i in range(n-2):\n",
        "    nodes[i+1] = bisection(\n",
        "        partial(eval_legendre_deriv, n-1),\n",
        "        brackets[i], brackets[i+1])\n",
        "\n",
        "mesh = np.linspace(-1, 1, 300)\n",
        "\n",
        "pt.plot(mesh, eval_legendre_deriv(n-1, mesh))\n",
        "pt.plot(nodes, 0*nodes, \"o\")"
      ]
    },
    {
      "cell_type": "markdown",
      "metadata": {},
      "source": [
        "### Node Selection: Gauss-Radau"
      ]
    },
    {
      "cell_type": "markdown",
      "metadata": {},
      "source": [
        "For Gauss-Radau (with the left endpoint included), the nodes are the roots of the following function:"
      ]
    },
    {
      "cell_type": "code",
      "execution_count": 31,
      "metadata": {
        "collapsed": false,
        "jupyter": {
          "outputs_hidden": false
        }
      },
      "outputs": [],
      "source": [
        "def radau_func(n, x):\n",
        "    return (\n",
        "        (sps.eval_legendre(n-1, x) + sps.eval_legendre(n, x))\n",
        "        /\n",
        "        (1+x))\n",
        "\n",
        "nodes = None\n",
        "# Root finding left as an exercise for the reader. :)\n",
        "\n",
        "mesh = np.linspace(-1, 1, 300)\n",
        "pt.plot(mesh, radau_func(n, mesh))"
      ]
    },
    {
      "cell_type": "markdown",
      "metadata": {},
      "source": [
        "### Finding the weights"
      ]
    },
    {
      "cell_type": "markdown",
      "metadata": {},
      "source": [
        "Use method of undetermined coefficients to find the interpolatory quadrature rule for `nodes`:"
      ]
    },
    {
      "cell_type": "code",
      "execution_count": 24,
      "metadata": {
        "collapsed": false,
        "jupyter": {
          "outputs_hidden": false
        }
      },
      "outputs": [],
      "source": [
        "max_degree = len(nodes) - 1\n",
        "powers = np.arange(max_degree+1)\n",
        "\n",
        "Vt = nodes ** powers.reshape(-1, 1)\n",
        "\n",
        "a, b = -1, 1\n",
        "rhs = 1/(powers+1) * (b**(powers+1) - a**(powers+1))\n",
        "\n",
        "weights = la.solve(Vt, rhs)"
      ]
    },
    {
      "cell_type": "markdown",
      "metadata": {},
      "source": [
        "Now compare the approximate integrals of monomials from our rule with the true answers:"
      ]
    },
    {
      "cell_type": "code",
      "execution_count": 25,
      "metadata": {
        "collapsed": false,
        "jupyter": {
          "outputs_hidden": false
        }
      },
      "outputs": [],
      "source": [
        "for i in range(2*n + 1):\n",
        "    approx = weights @ nodes**i\n",
        "    true = 1/(i+1)*(1. - (-1)**(i+1))\n",
        "    \n",
        "    print(\"Error at degree %d: %g\" % (i, approx-true))"
      ]
    },
    {
      "cell_type": "code",
      "execution_count": null,
      "metadata": {
        "collapsed": true,
        "jupyter": {
          "outputs_hidden": true
        }
      },
      "outputs": [],
      "source": []
    }
  ],
  "metadata": {
    "kernelspec": {
      "display_name": "Python 3",
      "language": "python",
      "name": "python3"
    },
    "language_info": {
      "codemirror_mode": {
        "name": "ipython",
        "version": 3
      },
      "file_extension": ".py",
      "mimetype": "text/x-python",
      "name": "python",
      "nbconvert_exporter": "python",
      "pygments_lexer": "ipython3",
      "version": "3.8.3"
    }
  },
  "nbformat": 4,
  "nbformat_minor": 4
}