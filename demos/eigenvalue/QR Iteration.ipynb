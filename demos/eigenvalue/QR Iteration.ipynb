{
 "cells": [
  {
   "cell_type": "markdown",
   "id": "d65a2bbd-f0f9-451f-a246-554ebdf206fa",
   "metadata": {},
   "source": [
    "# QR Iteration\n",
    "\n",
    "Copyright (C) 2023 Andreas Kloeckner\n",
    "\n",
    "<details>\n",
    "<summary>MIT License</summary>\n",
    "Permission is hereby granted, free of charge, to any person obtaining a copy\n",
    "of this software and associated documentation files (the \"Software\"), to deal\n",
    "in the Software without restriction, including without limitation the rights\n",
    "to use, copy, modify, merge, publish, distribute, sublicense, and/or sell\n",
    "copies of the Software, and to permit persons to whom the Software is\n",
    "furnished to do so, subject to the following conditions:\n",
    "\n",
    "The above copyright notice and this permission notice shall be included in\n",
    "all copies or substantial portions of the Software.\n",
    "\n",
    "THE SOFTWARE IS PROVIDED \"AS IS\", WITHOUT WARRANTY OF ANY KIND, EXPRESS OR\n",
    "IMPLIED, INCLUDING BUT NOT LIMITED TO THE WARRANTIES OF MERCHANTABILITY,\n",
    "FITNESS FOR A PARTICULAR PURPOSE AND NONINFRINGEMENT. IN NO EVENT SHALL THE\n",
    "AUTHORS OR COPYRIGHT HOLDERS BE LIABLE FOR ANY CLAIM, DAMAGES OR OTHER\n",
    "LIABILITY, WHETHER IN AN ACTION OF CONTRACT, TORT OR OTHERWISE, ARISING FROM,\n",
    "OUT OF OR IN CONNECTION WITH THE SOFTWARE OR THE USE OR OTHER DEALINGS IN\n",
    "THE SOFTWARE.\n",
    "</details>"
   ]
  },
  {
   "cell_type": "code",
   "execution_count": 6,
   "id": "b1c3421b-ba65-43b8-a3dd-07f3925cdcf9",
   "metadata": {},
   "outputs": [],
   "source": [
    "import numpy as np\n",
    "import numpy.linalg as la\n",
    "\n",
    "np.set_printoptions(linewidth=120)"
   ]
  },
  {
   "cell_type": "markdown",
   "id": "a2caac27-4d67-4faa-a3b9-6a26170a0e45",
   "metadata": {},
   "source": [
    "Make a matrix with given eigenvalues:"
   ]
  },
  {
   "cell_type": "code",
   "execution_count": 7,
   "id": "52ce9a98-7c28-42c6-8964-32fb64dcd6ea",
   "metadata": {},
   "outputs": [
    {
     "name": "stdout",
     "output_type": "stream",
     "text": [
      "[-1.3657822  -0.78460489 -0.08829521  0.30824369  0.52110266]\n"
     ]
    }
   ],
   "source": [
    "n = 5\n",
    "\n",
    "np.random.seed(70)\n",
    "eigvecs = np.random.randn(n, n)\n",
    "eigvals = np.sort(np.random.randn(n))\n",
    "\n",
    "A = np.dot(la.solve(eigvecs, np.diag(eigvals)), eigvecs)\n",
    "print(eigvals)"
   ]
  },
  {
   "cell_type": "markdown",
   "id": "29aaff9f-da2d-4a94-8b36-0801c6aa2c04",
   "metadata": {},
   "source": [
    "## Unshifted QR"
   ]
  },
  {
   "cell_type": "code",
   "execution_count": 121,
   "id": "71c8c905-d51c-4ed1-b8d3-80abdb69c98e",
   "metadata": {},
   "outputs": [],
   "source": [
    "X = A\n",
    "Qall = np.eye(n)"
   ]
  },
  {
   "cell_type": "code",
   "execution_count": 142,
   "id": "3e7fb4fb-e6f1-4b08-8dc3-766d0839190a",
   "metadata": {},
   "outputs": [
    {
     "name": "stdout",
     "output_type": "stream",
     "text": [
      "[[-1.36578253e+00  8.75139040e-02  3.03786794e+00  2.62459350e-01  2.97606186e-01]\n",
      " [-2.24915745e-06 -7.84620834e-01 -4.58283345e-01  1.38868353e+00 -2.45154950e-01]\n",
      " [ 1.07650630e-09  4.64043042e-05  5.21117944e-01  1.51976500e-01 -7.37805721e-02]\n",
      " [ 1.84131018e-14  8.27020225e-10  1.39850164e-06  3.08244689e-01  1.76856522e-01]\n",
      " [-4.46854645e-26  4.39962637e-21 -5.92936598e-17  3.37890623e-12 -8.82952134e-02]]\n"
     ]
    }
   ],
   "source": [
    "# clear\n",
    "Q, R = la.qr(X)\n",
    "X = R @ Q\n",
    "\n",
    "Qall = Qall @ Q\n",
    "\n",
    "print(X)"
   ]
  },
  {
   "cell_type": "code",
   "execution_count": 169,
   "id": "5ca5b671-eab2-4386-8ad5-acc27e3b98af",
   "metadata": {},
   "outputs": [
    {
     "data": {
      "text/plain": [
       "array([[ 0.00000000e+000,  0.00000000e+000,  0.00000000e+000,  0.00000000e+000,  0.00000000e+000],\n",
       "       [-3.53477485e-033,  0.00000000e+000,  0.00000000e+000,  0.00000000e+000,  0.00000000e+000],\n",
       "       [-3.72649019e-043,  8.68015875e-012,  0.00000000e+000,  0.00000000e+000,  0.00000000e+000],\n",
       "       [ 1.80007802e-085,  1.09679232e-053, -1.15248643e-043,  0.00000000e+000,  0.00000000e+000],\n",
       "       [ 3.51450476e-152, -2.20139581e-120,  8.11711939e-110,  5.61178424e-068,  0.00000000e+000]])"
      ]
     },
     "execution_count": 169,
     "metadata": {},
     "output_type": "execute_result"
    }
   ],
   "source": [
    "np.tril(X, -1)"
   ]
  },
  {
   "cell_type": "code",
   "execution_count": 170,
   "id": "a389e010-8d14-4635-9a88-77a03e8bf7de",
   "metadata": {},
   "outputs": [
    {
     "data": {
      "text/plain": [
       "8.680158751671073e-12"
      ]
     },
     "execution_count": 170,
     "metadata": {},
     "output_type": "execute_result"
    }
   ],
   "source": [
    "la.norm(np.tril(X, -1))"
   ]
  },
  {
   "cell_type": "code",
   "execution_count": 143,
   "id": "c4597364-70c5-48c9-b614-6ef1d84d0164",
   "metadata": {},
   "outputs": [
    {
     "data": {
      "text/plain": [
       "1.572363044898993e-15"
      ]
     },
     "execution_count": 143,
     "metadata": {},
     "output_type": "execute_result"
    }
   ],
   "source": [
    "la.norm(A - Qall @ X @ Qall.T, 2) / la.norm(A, 2)"
   ]
  },
  {
   "cell_type": "markdown",
   "id": "933cede8-1150-4d71-96b2-353b22f44b10",
   "metadata": {},
   "source": [
    "## Shifted QR"
   ]
  },
  {
   "cell_type": "code",
   "execution_count": 145,
   "id": "98209f51-fcd7-4abd-afd8-083abc406a73",
   "metadata": {},
   "outputs": [],
   "source": [
    "X = A\n",
    "Qall = np.eye(n)"
   ]
  },
  {
   "cell_type": "code",
   "execution_count": 164,
   "id": "2092b1d0-bff6-484b-98b1-bc6983b4a43d",
   "metadata": {},
   "outputs": [
    {
     "name": "stdout",
     "output_type": "stream",
     "text": [
      "[[-1.36578220e+000  8.74081894e-002 -7.91894537e-001  1.33958935e+000 -2.63903577e+000]\n",
      " [-3.53477485e-033 -7.84604886e-001  8.67481345e-001 -1.12831918e+000 -4.15900506e-001]\n",
      " [-3.72649019e-043  8.68015875e-012 -8.82952134e-002 -1.96984053e-001  2.33745979e-002]\n",
      " [ 1.80007802e-085  1.09679232e-053 -1.15248643e-043  3.08243691e-001 -1.43127333e-001]\n",
      " [ 3.51450476e-152 -2.20139581e-120  8.11711939e-110  5.61178424e-068  5.21102657e-001]]\n"
     ]
    }
   ],
   "source": [
    "# clear\n",
    "i = -4\n",
    "sigma = X[i,i]\n",
    "Q, R = la.qr(X - sigma*np.eye(n))\n",
    "X = R @ Q + sigma*np.eye(n)\n",
    "\n",
    "Qall = Qall @ Q\n",
    "\n",
    "print(X)"
   ]
  },
  {
   "cell_type": "markdown",
   "id": "7580f462-72fc-44af-ae36-758c763b3ba5",
   "metadata": {},
   "source": [
    "To compare convergence speed, count iterations until left-of-diagonal entries decay below $10^{-10}$."
   ]
  },
  {
   "cell_type": "code",
   "execution_count": 172,
   "id": "56e796e1-8366-4a06-ac1b-6b6dd5846af9",
   "metadata": {},
   "outputs": [
    {
     "data": {
      "text/plain": [
       "8.680158751671073e-12"
      ]
     },
     "execution_count": 172,
     "metadata": {},
     "output_type": "execute_result"
    }
   ],
   "source": [
    "la.norm(np.tril(X, -1))"
   ]
  },
  {
   "cell_type": "code",
   "execution_count": 173,
   "id": "963c0c73-252f-4d0a-8cdf-513e1ea84db4",
   "metadata": {},
   "outputs": [
    {
     "data": {
      "text/plain": [
       "1.5498995078019794e-15"
      ]
     },
     "execution_count": 173,
     "metadata": {},
     "output_type": "execute_result"
    }
   ],
   "source": [
    "la.norm(A - Qall @ X @ Qall.T, 2) / la.norm(A, 2)"
   ]
  },
  {
   "cell_type": "code",
   "execution_count": null,
   "id": "b306283d-f477-46cd-bada-4843a02a7064",
   "metadata": {},
   "outputs": [],
   "source": []
  }
 ],
 "metadata": {
  "kernelspec": {
   "display_name": "Python 3 (ipykernel)",
   "language": "python",
   "name": "python3"
  },
  "language_info": {
   "codemirror_mode": {
    "name": "ipython",
    "version": 3
   },
   "file_extension": ".py",
   "mimetype": "text/x-python",
   "name": "python",
   "nbconvert_exporter": "python",
   "pygments_lexer": "ipython3",
   "version": "3.12.0"
  }
 },
 "nbformat": 4,
 "nbformat_minor": 5
}
