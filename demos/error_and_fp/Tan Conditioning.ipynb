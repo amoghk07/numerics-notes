{
 "cells": [
  {
   "cell_type": "code",
   "execution_count": 5,
   "id": "2102802a-3dcd-4063-86a3-4239058671df",
   "metadata": {},
   "outputs": [
    {
     "name": "stdout",
     "output_type": "stream",
     "text": [
      "157080.13268437845\n",
      "314160.2653660045\n"
     ]
    }
   ],
   "source": [
    "import numpy as np\n",
    "\n",
    "def f(x):\n",
    "    return np.tan(x)\n",
    "def derf(x):\n",
    "    return 1+np.tan(x)**2\n",
    "\n",
    "x = np.pi/2 + 0.000005\n",
    "delta_x = 0.000005\n",
    "\n",
    "k1 = (np.abs(f(x + delta_x) - f(x)) / np.abs(f(x))) / (delta_x/x)\n",
    "k2 = np.abs(derf(x) * x / f(x))\n",
    "\n",
    "print(k1)\n",
    "print(k2)\n"
   ]
  },
  {
   "cell_type": "code",
   "execution_count": null,
   "id": "1abfa183-154d-45b4-9544-fbcc07826434",
   "metadata": {},
   "outputs": [],
   "source": []
  }
 ],
 "metadata": {
  "kernelspec": {
   "display_name": "Python 3 (ipykernel)",
   "language": "python",
   "name": "python3"
  },
  "language_info": {
   "codemirror_mode": {
    "name": "ipython",
    "version": 3
   },
   "file_extension": ".py",
   "mimetype": "text/x-python",
   "name": "python",
   "nbconvert_exporter": "python",
   "pygments_lexer": "ipython3",
   "version": "3.10.12"
  }
 },
 "nbformat": 4,
 "nbformat_minor": 5
}
