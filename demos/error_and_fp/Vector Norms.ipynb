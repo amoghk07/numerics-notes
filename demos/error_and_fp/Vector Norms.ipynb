{
 "cells": [
  {
   "cell_type": "markdown",
   "metadata": {},
   "source": [
    "## Computing norms by hand\n",
    "\n",
    "$p$-norms can be computed in two different ways in numpy:"
   ]
  },
  {
   "cell_type": "code",
   "execution_count": 36,
   "metadata": {
    "collapsed": false,
    "jupyter": {
     "outputs_hidden": false
    }
   },
   "outputs": [],
   "source": [
    "import numpy as np\n",
    "import numpy.linalg as la"
   ]
  },
  {
   "cell_type": "code",
   "execution_count": 49,
   "metadata": {
    "collapsed": false,
    "jupyter": {
     "outputs_hidden": false
    }
   },
   "outputs": [],
   "source": [
    "x = np.linspace(1, 100, 100, endpoint=True)"
   ]
  },
  {
   "cell_type": "markdown",
   "metadata": {},
   "source": [
    "First, let's compute the 2-norm by hand:"
   ]
  },
  {
   "cell_type": "code",
   "execution_count": 50,
   "metadata": {
    "collapsed": false,
    "jupyter": {
     "outputs_hidden": false
    }
   },
   "outputs": [
    {
     "data": {
      "text/plain": [
       "581.6786054171153"
      ]
     },
     "execution_count": 50,
     "metadata": {},
     "output_type": "execute_result"
    }
   ],
   "source": [
    "#clear\n",
    "np.sum(x**2)**(1/2)"
   ]
  },
  {
   "cell_type": "markdown",
   "metadata": {},
   "source": [
    "Next, let's use `numpy` machinery to compute it:"
   ]
  },
  {
   "cell_type": "code",
   "execution_count": 51,
   "metadata": {
    "collapsed": false,
    "jupyter": {
     "outputs_hidden": false
    }
   },
   "outputs": [
    {
     "data": {
      "text/plain": [
       "581.6786054171153"
      ]
     },
     "execution_count": 51,
     "metadata": {},
     "output_type": "execute_result"
    }
   ],
   "source": [
    "#clear\n",
    "la.norm(x, 2)"
   ]
  },
  {
   "cell_type": "markdown",
   "metadata": {},
   "source": [
    "Both of the values above represent the 2-norm: $\\|x\\|_2$."
   ]
  },
  {
   "cell_type": "markdown",
   "metadata": {},
   "source": [
    "--------------\n",
    "\n",
    "## About the $\\infty$-norm\n",
    "\n",
    "Different values of $p$ work similarly:"
   ]
  },
  {
   "cell_type": "code",
   "execution_count": 52,
   "metadata": {
    "collapsed": false,
    "jupyter": {
     "outputs_hidden": false
    }
   },
   "outputs": [
    {
     "data": {
      "text/plain": [
       "176.5868152619356"
      ]
     },
     "execution_count": 52,
     "metadata": {},
     "output_type": "execute_result"
    }
   ],
   "source": [
    "np.sum(np.abs(x)**5)**(1/5)"
   ]
  },
  {
   "cell_type": "code",
   "execution_count": 53,
   "metadata": {
    "collapsed": false,
    "jupyter": {
     "outputs_hidden": false
    }
   },
   "outputs": [
    {
     "data": {
      "text/plain": [
       "176.5868152619356"
      ]
     },
     "execution_count": 53,
     "metadata": {},
     "output_type": "execute_result"
    }
   ],
   "source": [
    "#clear\n",
    "la.norm(x, 5)"
   ]
  },
  {
   "cell_type": "markdown",
   "metadata": {},
   "source": [
    "---------------------\n",
    "\n",
    "The $\\infty$ norm represents a special case, because it's actually (in some sense) the *limit* of $p$-norms as $p\\to\\infty$.\n",
    "\n",
    "Recall that: $\\|x\\|_\\infty = \\max(|x_1|, |x_2|, |x_3|)$.\n",
    "\n",
    "Where does that come from? Let's try with $p=100$:"
   ]
  },
  {
   "cell_type": "code",
   "execution_count": 54,
   "metadata": {
    "collapsed": false,
    "jupyter": {
     "outputs_hidden": false
    }
   },
   "outputs": [
    {
     "data": {
      "text/plain": [
       "array([1.00000000e+000, 1.26765060e+030, 5.15377521e+047, 1.60693804e+060,\n",
       "       7.88860905e+069, 6.53318624e+077, 3.23447651e+084, 2.03703598e+090,\n",
       "       2.65613989e+095, 1.00000000e+100, 1.37806123e+104, 8.28179745e+107,\n",
       "       2.47933511e+111, 4.10018609e+114, 4.06561178e+117, 2.58224988e+120,\n",
       "       1.10889937e+123, 3.36705732e+125, 7.50516242e+127, 1.26765060e+130,\n",
       "       1.66697648e+132, 1.74690015e+134, 1.48861915e+136, 1.04984255e+138,\n",
       "       6.22301528e+139, 3.14293064e+141, 1.36891479e+143, 5.19760336e+144,\n",
       "       1.73699989e+146, 5.15377521e+147, 1.36826237e+149, 3.27339061e+150,\n",
       "       7.10221782e+151, 1.40569696e+153, 2.55155207e+154, 4.26825224e+155,\n",
       "       6.60955783e+156, 9.51392365e+157, 1.27779358e+159, 1.60693804e+160,\n",
       "       1.89839102e+161, 2.11314374e+162, 2.22251939e+163, 2.21445902e+164,\n",
       "       2.09532492e+165, 1.88704896e+166, 1.62101037e+167, 1.33083354e+168,\n",
       "       1.04618383e+169, 7.88860905e+169, 5.71501809e+170, 3.98413791e+171,\n",
       "       2.67662149e+172, 1.73530566e+173, 1.08709863e+174, 6.58874501e+174,\n",
       "       3.86799200e+175, 2.20190895e+176, 1.21674947e+177, 6.53318624e+177,\n",
       "       3.41179950e+178, 1.73447862e+179, 8.59122208e+179, 4.14951557e+180,\n",
       "       1.95585054e+181, 9.00313068e+181, 4.05023545e+182, 1.78193259e+183,\n",
       "       7.67200847e+183, 3.23447651e+184, 1.33608741e+185, 5.41065251e+185,\n",
       "       2.14924543e+186, 8.37860995e+186, 3.20720219e+187, 1.20603310e+188,\n",
       "       4.45730669e+188, 1.61979580e+189, 5.79040751e+189, 2.03703598e+190,\n",
       "       7.05507911e+190, 2.40649652e+191, 8.08740585e+191, 2.67872793e+192,\n",
       "       8.74767363e+192, 2.81737803e+193, 8.95210695e+193, 2.80716031e+194,\n",
       "       8.68961759e+194, 2.65613989e+195, 8.01935118e+195, 2.39211875e+196,\n",
       "       7.05171668e+196, 2.05487477e+197, 5.92052922e+197, 1.68703194e+198,\n",
       "       4.75525079e+198, 1.32619556e+199, 3.66032341e+199, 1.00000000e+200])"
      ]
     },
     "execution_count": 54,
     "metadata": {},
     "output_type": "execute_result"
    }
   ],
   "source": [
    "#clear\n",
    "x**100"
   ]
  },
  {
   "cell_type": "code",
   "execution_count": 55,
   "metadata": {
    "collapsed": false,
    "jupyter": {
     "outputs_hidden": false
    }
   },
   "outputs": [
    {
     "data": {
      "text/plain": [
       "1.572114066370549e+200"
      ]
     },
     "execution_count": 55,
     "metadata": {},
     "output_type": "execute_result"
    }
   ],
   "source": [
    "#clear\n",
    "np.sum(x**100)"
   ]
  },
  {
   "cell_type": "markdown",
   "metadata": {},
   "source": [
    "Compare to last value in vector: the addition has essentially taken the maximum:"
   ]
  },
  {
   "cell_type": "code",
   "execution_count": 56,
   "metadata": {
    "collapsed": false,
    "jupyter": {
     "outputs_hidden": false
    }
   },
   "outputs": [
    {
     "data": {
      "text/plain": [
       "100.45344622277295"
      ]
     },
     "execution_count": 56,
     "metadata": {},
     "output_type": "execute_result"
    }
   ],
   "source": [
    "#clear\n",
    "np.sum(x**100)**(1/100)"
   ]
  },
  {
   "cell_type": "markdown",
   "metadata": {},
   "source": [
    "Numpy can compute that, too:"
   ]
  },
  {
   "cell_type": "code",
   "execution_count": 57,
   "metadata": {
    "collapsed": false,
    "jupyter": {
     "outputs_hidden": false
    }
   },
   "outputs": [
    {
     "data": {
      "text/plain": [
       "100.0"
      ]
     },
     "execution_count": 57,
     "metadata": {},
     "output_type": "execute_result"
    }
   ],
   "source": [
    "#clear\n",
    "la.norm(x, np.inf)"
   ]
  },
  {
   "cell_type": "markdown",
   "metadata": {},
   "source": [
    "-------------\n",
    "\n",
    "## Unit Balls\n",
    "\n",
    "Once you know the set of vectors for which $\\|x\\|=1$, you know everything about the norm, because of semilinearity. The graphical version of this is called the 'unit ball'.\n",
    "\n",
    "We'll make a bunch of vectors in 2D (for visualization) and then scale them so that $\\|x\\|=1$."
   ]
  },
  {
   "cell_type": "code",
   "execution_count": 89,
   "metadata": {
    "collapsed": false,
    "jupyter": {
     "outputs_hidden": false
    }
   },
   "outputs": [
    {
     "data": {
      "text/plain": [
       "[<matplotlib.lines.Line2D at 0x78183dcba8c0>]"
      ]
     },
     "execution_count": 89,
     "metadata": {},
     "output_type": "execute_result"
    },
    {
     "data": {
      "image/png": "[encoded data removed]",
      "text/plain": [
       "<Figure size 640x480 with 1 Axes>"
      ]
     },
     "metadata": {},
     "output_type": "display_data"
    }
   ],
   "source": [
    "alpha = np.linspace(0, 2*np.pi, 1000, endpoint=True)\n",
    "x = np.cos(alpha)\n",
    "y = np.sin(alpha)\n",
    "\n",
    "p = 1\n",
    "norms = np.zeros(1000)\n",
    "\n",
    "for i in range(1000):\n",
    "    if p != np.inf:\n",
    "        norms[i] = la.norm([x[i],y[i]],p)\n",
    "    else:\n",
    "        norms[i] = np.maximum(np.abs(x[i]), np.abs(y[i]))\n",
    "\n",
    "x_unit = x/norms\n",
    "y_unit = y/norms\n",
    "#vecs = np.array([x,y])\n",
    "\n",
    "\n",
    "#norms = np.sum(np.abs(vecs)**p, axis=0)**(1/p)\n",
    "#norms = la.norm(vecs, p, axis = 0)\n",
    "#norm_vecs = vecs/norms\n",
    "\n",
    "\n",
    "import matplotlib.pyplot as pt\n",
    "pt.grid()\n",
    "pt.gca().set_aspect(\"equal\")\n",
    "#pt.plot(norm_vecs[0], norm_vecs[1])\n",
    "pt.plot(x_unit, y_unit)\n",
    "#pt.xlim([-1.5, 1.5])\n",
    "#pt.ylim([-1.5, 1.5])"
   ]
  },
  {
   "cell_type": "code",
   "execution_count": null,
   "metadata": {
    "collapsed": true,
    "jupyter": {
     "outputs_hidden": true
    }
   },
   "outputs": [],
   "source": []
  },
  {
   "cell_type": "code",
   "execution_count": null,
   "metadata": {},
   "outputs": [],
   "source": []
  },
  {
   "cell_type": "code",
   "execution_count": null,
   "metadata": {},
   "outputs": [],
   "source": []
  }
 ],
 "metadata": {
  "kernelspec": {
   "display_name": "Python 3 (ipykernel)",
   "language": "python",
   "name": "python3"
  },
  "language_info": {
   "codemirror_mode": {
    "name": "ipython",
    "version": 3
   },
   "file_extension": ".py",
   "mimetype": "text/x-python",
   "name": "python",
   "nbconvert_exporter": "python",
   "pygments_lexer": "ipython3",
   "version": "3.10.12"
  }
 },
 "nbformat": 4,
 "nbformat_minor": 4
}
