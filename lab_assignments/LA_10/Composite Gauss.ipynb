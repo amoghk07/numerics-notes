{
 "cells": [
  {
   "cell_type": "code",
   "execution_count": null,
   "id": "a57ee0d9-f05b-490b-99d8-7c8f777fa4c5",
   "metadata": {},
   "outputs": [],
   "source": [
    "import numpy as np\n",
    "\n",
    "def gauss_rule(f, a, b):\n",
    "    x1 = 1/np.sqrt(3)\n",
    "    x2 = -1/np.sqrt(3)\n",
    "    z = ((b - a) / 2) * (f(0.5 * x1 * (b-a) + 0.5 * (b + a)) + f(0.5 * x2 * (b-a) + 0.5 * (b + a)))\n",
    "    return z\n",
    "\n",
    "def comp_gauss(f, a, b, M):\n",
    "    x = np.linspace(a, b, M)\n",
    "    sum = 0\n",
    "    for i in range(1, M):\n",
    "        sum += gauss_rule(f, x[i-1], x[i]) \n",
    "    return sum"
   ]
  },
  {
   "cell_type": "code",
   "execution_count": null,
   "id": "769bcefc-799c-4a50-99c0-4617c6011080",
   "metadata": {},
   "outputs": [],
   "source": [
    "def f(x):\n",
    "    return 2 * x * np.exp(-x*x)\n",
    "a = 0\n",
    "b = 1\n",
    "I_exact = 1 - (1/np.exp(1))"
   ]
  },
  {
   "cell_type": "code",
   "execution_count": null,
   "id": "f02f51dd-59f6-4443-b8ef-4e5860291b07",
   "metadata": {},
   "outputs": [],
   "source": [
    "M = 20\n",
    "I = comp_gauss(f, a, b, M)\n",
    "print(I)\n",
    "print(np.abs(I-I_exact))"
   ]
  },
  {
   "cell_type": "code",
   "execution_count": null,
   "id": "edacffc5-995d-4bc7-a565-90d815fcc27b",
   "metadata": {},
   "outputs": [],
   "source": [
    "M = 50\n",
    "I = comp_gauss(f, a, b, M)\n",
    "print(I)\n",
    "print(np.abs(I-I_exact))"
   ]
  },
  {
   "cell_type": "code",
   "execution_count": null,
   "id": "a0e42e71-01d3-432f-bb87-c39975ebd2b0",
   "metadata": {},
   "outputs": [],
   "source": [
    "M = 100\n",
    "I = comp_gauss(f, a, b, M)\n",
    "print(I)\n",
    "print(np.abs(I-I_exact))"
   ]
  },
  {
   "cell_type": "code",
   "execution_count": null,
   "id": "99f33f9e-356f-474e-a384-115c9fce1aa1",
   "metadata": {},
   "outputs": [],
   "source": []
  }
 ],
 "metadata": {
  "kernelspec": {
   "display_name": "Python 3 (ipykernel)",
   "language": "python",
   "name": "python3"
  },
  "language_info": {
   "codemirror_mode": {
    "name": "ipython",
    "version": 3
   },
   "file_extension": ".py",
   "mimetype": "text/x-python",
   "name": "python",
   "nbconvert_exporter": "python",
   "pygments_lexer": "ipython3",
   "version": "3.10.12"
  }
 },
 "nbformat": 4,
 "nbformat_minor": 5
}
