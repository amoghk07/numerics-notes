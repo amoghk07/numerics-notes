{
 "cells": [
  {
   "cell_type": "code",
   "execution_count": null,
   "id": "d71282e4-349d-4eea-b29d-8fbe89a991f0",
   "metadata": {},
   "outputs": [],
   "source": [
    "import numpy as np\n",
    "\n",
    "def simp_rule(f, a, b):\n",
    "    z = ((b - a) / 6) * (f(a) + 4 * f(0.5 * (a + b)) + f(b))\n",
    "    return z\n",
    "\n",
    "def comp_simp(f, a, b, M):\n",
    "    x = np.linspace(a, b, M)\n",
    "    sum = 0\n",
    "    for i in range(1, M):\n",
    "        sum += simp_rule(f, x[i-1], x[i]) \n",
    "    return sum\n",
    "    "
   ]
  },
  {
   "cell_type": "code",
   "execution_count": null,
   "id": "359b7999-d759-4a23-bf7c-0a7722b00a04",
   "metadata": {},
   "outputs": [],
   "source": [
    "def f(x):\n",
    "    return 2 * x * np.exp(-x*x)\n",
    "a = 0\n",
    "b = 1\n",
    "I_exact = 1 - (1/np.exp(1))"
   ]
  },
  {
   "cell_type": "code",
   "execution_count": null,
   "id": "62d7ab39-38cd-459a-b13d-4741c6de463f",
   "metadata": {},
   "outputs": [],
   "source": [
    "M = 20\n",
    "I = comp_simp(f, a, b, M)\n",
    "print(I)\n",
    "print(np.abs(I-I_exact))"
   ]
  },
  {
   "cell_type": "code",
   "execution_count": null,
   "id": "7f2e5190-ab2e-40a4-b49b-fb62b719ddd6",
   "metadata": {},
   "outputs": [],
   "source": [
    "M = 50\n",
    "I = comp_simp(f, a, b, M)\n",
    "print(I)\n",
    "print(np.abs(I-I_exact))"
   ]
  },
  {
   "cell_type": "code",
   "execution_count": null,
   "id": "998708f9-7094-4c10-8961-15db7df30524",
   "metadata": {},
   "outputs": [],
   "source": [
    "M = 100\n",
    "I = comp_simp(f, a, b, M)\n",
    "print(I)\n",
    "print(np.abs(I-I_exact))"
   ]
  },
  {
   "cell_type": "code",
   "execution_count": null,
   "id": "286d46a6-3fb7-4756-b622-ccd4a44be47a",
   "metadata": {},
   "outputs": [],
   "source": []
  }
 ],
 "metadata": {
  "kernelspec": {
   "display_name": "Python 3 (ipykernel)",
   "language": "python",
   "name": "python3"
  },
  "language_info": {
   "codemirror_mode": {
    "name": "ipython",
    "version": 3
   },
   "file_extension": ".py",
   "mimetype": "text/x-python",
   "name": "python",
   "nbconvert_exporter": "python",
   "pygments_lexer": "ipython3",
   "version": "3.10.12"
  }
 },
 "nbformat": 4,
 "nbformat_minor": 5
}
