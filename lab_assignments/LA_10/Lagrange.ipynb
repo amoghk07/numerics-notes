{
 "cells": [
  {
   "cell_type": "code",
   "execution_count": null,
   "id": "c9af0aec-8693-42b5-b93b-b3b97e33617b",
   "metadata": {},
   "outputs": [],
   "source": [
    "import numpy as np\n",
    "import numpy.linalg as la\n",
    "import matplotlib.pyplot as plt\n",
    "\n",
    "t = np.array([-1, 1, 3])\n",
    "y = np.array([0, 1, 5])\n",
    "\n",
    "def l1(x):\n",
    "    z = (x - t[1]) * (x - t[2]) / ((t[0] - t[1]) * (t[0] - t[2]))\n",
    "    return z\n",
    "\n",
    "def l2(x):\n",
    "    z = (x - t[0]) * (x - t[2]) / ((t[1] - t[0]) * (t[1] - t[2]))\n",
    "    return z\n",
    "\n",
    "def l3(x):\n",
    "    z = (x - t[0]) * (x - t[1]) / ((t[2] - t[0]) * (t[2] - t[1]))\n",
    "    return z\n",
    "\n",
    "def p(x):\n",
    "    z = y[0] * l1(x) + y[1] * l2(x) + y[2] * l3(x)\n",
    "    return z\n",
    "    \n",
    "z = np.linspace(-1, 3, 200)"
   ]
  },
  {
   "cell_type": "code",
   "execution_count": null,
   "id": "7d97f1ec-01c8-46ce-9146-15652073c180",
   "metadata": {},
   "outputs": [],
   "source": [
    "w = l1(z)\n",
    "plt.plot(z, w)\n",
    "e = np.array([1, 0, 0])\n",
    "plt.scatter(t, e)"
   ]
  },
  {
   "cell_type": "code",
   "execution_count": null,
   "id": "93fb2d51-ef97-456e-ab41-51fe7f91a504",
   "metadata": {},
   "outputs": [],
   "source": [
    "w = l2(z)\n",
    "plt.plot(z, w)\n",
    "e = np.array([0, 1, 0])\n",
    "plt.scatter(t, e)"
   ]
  },
  {
   "cell_type": "code",
   "execution_count": null,
   "id": "2756b00e-935f-493b-89b6-177e79317743",
   "metadata": {},
   "outputs": [],
   "source": [
    "w = l3(z)\n",
    "plt.plot(z, w)\n",
    "e = np.array([0, 0, 1])\n",
    "plt.scatter(t, e)"
   ]
  },
  {
   "cell_type": "code",
   "execution_count": null,
   "id": "41c610e0-219d-4e21-81fa-38bfd1f3d4c2",
   "metadata": {},
   "outputs": [],
   "source": [
    "w = p(z)\n",
    "plt.plot(z, w)\n",
    "plt.scatter(t, y)"
   ]
  }
 ],
 "metadata": {
  "kernelspec": {
   "display_name": "Python 3 (ipykernel)",
   "language": "python",
   "name": "python3"
  },
  "language_info": {
   "codemirror_mode": {
    "name": "ipython",
    "version": 3
   },
   "file_extension": ".py",
   "mimetype": "text/x-python",
   "name": "python",
   "nbconvert_exporter": "python",
   "pygments_lexer": "ipython3",
   "version": "3.10.12"
  }
 },
 "nbformat": 4,
 "nbformat_minor": 5
}
