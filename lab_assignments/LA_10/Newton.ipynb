{
 "cells": [
  {
   "cell_type": "code",
   "execution_count": null,
   "id": "bf3fc7bb-730a-45bf-a29c-684e8dcf1d18",
   "metadata": {},
   "outputs": [],
   "source": [
    "import numpy as np\n",
    "import numpy.linalg as la\n",
    "import matplotlib.pyplot as plt\n",
    "\n",
    "t = np.array([-1, 1, 3])\n",
    "y = np.array([0, 1, 5])\n",
    "\n",
    "A = np.array([[1, 0, 0],\n",
    "             [1, t[1] - t[0], 0],\n",
    "             [1, t[2] - t[0], (t[2] - t[0]) * (t[2] - t[1])]])\n",
    "x = la.solve(A, y)\n",
    "print(x)\n",
    "\n",
    "def f(z):\n",
    "    return x[0] + x[1] * (z - t[0]) + x[2] * (z - t[1]) * (z - t[0])\n",
    "\n",
    "z = np.linspace(-1, 3, 100)\n",
    "w = f(z)\n",
    "\n",
    "plt.plot(z, w)\n",
    "plt.scatter(t, y)"
   ]
  },
  {
   "cell_type": "code",
   "execution_count": null,
   "id": "09e0bd8e-c6b0-4cd5-aa31-13810cbc4db5",
   "metadata": {},
   "outputs": [],
   "source": []
  }
 ],
 "metadata": {
  "kernelspec": {
   "display_name": "Python 3 (ipykernel)",
   "language": "python",
   "name": "python3"
  },
  "language_info": {
   "codemirror_mode": {
    "name": "ipython",
    "version": 3
   },
   "file_extension": ".py",
   "mimetype": "text/x-python",
   "name": "python",
   "nbconvert_exporter": "python",
   "pygments_lexer": "ipython3",
   "version": "3.10.12"
  }
 },
 "nbformat": 4,
 "nbformat_minor": 5
}
