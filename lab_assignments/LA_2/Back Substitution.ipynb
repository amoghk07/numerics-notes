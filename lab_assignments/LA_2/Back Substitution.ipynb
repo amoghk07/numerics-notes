{
 "cells": [
  {
   "cell_type": "code",
   "execution_count": 9,
   "id": "ae317115-a0e6-4cef-a32e-654e679185b3",
   "metadata": {},
   "outputs": [
    {
     "name": "stdout",
     "output_type": "stream",
     "text": [
      "[-0.33333333  0.5         1.        ]\n",
      "[-0.33333333  0.5         1.        ]\n"
     ]
    }
   ],
   "source": [
    "import numpy as np\n",
    "\n",
    "A = np.array([[-3, 2 , 1], [0, 4, 3], [0, 0, 1]], dtype = float)\n",
    "b = np. array([3, 5, 1], dtype = float)\n",
    "\n",
    "def back_sub(mat, rhs):\n",
    "    n = len(rhs)\n",
    "    x = np.zeros(len(rhs))\n",
    "    for i in range(n - 1, -1, -1):\n",
    "        if mat[i, i] == 0:\n",
    "            raise ValueError\n",
    "        x[i] = rhs[i]\n",
    "        for j in range(i+1, n):\n",
    "            x[i] -= mat[i, j] * x[j]\n",
    "        x[i] = x[i] / mat[i, i]\n",
    "    return x\n",
    "\n",
    "y = back_sub(A,b)\n",
    "z = np.linalg.solve(A,b)\n",
    "print(y)\n",
    "print(z)\n",
    "\n",
    "    "
   ]
  },
  {
   "cell_type": "markdown",
   "id": "fd42c3ba-7841-4878-8049-bef312ad95a0",
   "metadata": {},
   "source": [
    "mat[0,0] * x[0] + mat[0,1] * x[1] + mat[0,2] * x[2] = rhs[0]\n",
    "x[0] = (rhs[0] - mat[0,1] * x[1] - mat[0,2] * x[2]) / mat[0,0] "
   ]
  }
 ],
 "metadata": {
  "kernelspec": {
   "display_name": "Python 3 (ipykernel)",
   "language": "python",
   "name": "python3"
  },
  "language_info": {
   "codemirror_mode": {
    "name": "ipython",
    "version": 3
   },
   "file_extension": ".py",
   "mimetype": "text/x-python",
   "name": "python",
   "nbconvert_exporter": "python",
   "pygments_lexer": "ipython3",
   "version": "3.10.12"
  }
 },
 "nbformat": 4,
 "nbformat_minor": 5
}
