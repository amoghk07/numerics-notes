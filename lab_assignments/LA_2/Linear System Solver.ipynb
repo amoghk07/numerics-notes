{
 "cells": [
  {
   "cell_type": "code",
   "execution_count": null,
   "id": "406fc535-a093-4709-9538-c57cc11fe0e5",
   "metadata": {},
   "outputs": [],
   "source": [
    "import numpy as np\n",
    "import numpy.linalg as la"
   ]
  },
  {
   "cell_type": "code",
   "execution_count": null,
   "id": "a0566f97-40ea-4f24-ac23-7f291d8c7d5e",
   "metadata": {},
   "outputs": [],
   "source": [
    "A = np.array([[3, 1], [1,2]])\n",
    "b = np.array([10, 5])"
   ]
  },
  {
   "cell_type": "markdown",
   "id": "c40ab903-0ccd-45bd-9a4f-ee69b3989924",
   "metadata": {},
   "source": [
    "To check if the linear system has a solution, we can check if the matrix A has a non-zero determinant."
   ]
  },
  {
   "cell_type": "code",
   "execution_count": null,
   "id": "b6133d62-4117-4825-bc84-a67ce9ba5cd5",
   "metadata": {},
   "outputs": [],
   "source": [
    "det = la.det(A)"
   ]
  },
  {
   "cell_type": "markdown",
   "id": "1984e238-770d-495d-806f-d19ec385b3ab",
   "metadata": {},
   "source": [
    "If the determinant is non-zero, then using numpy, we can call the solve function from the library numpy.linalg. But, this function only works if the number of equations is the same as the number of unknowns. "
   ]
  },
  {
   "cell_type": "code",
   "execution_count": null,
   "id": "52cdb2a1-ad33-4be0-8006-dba701ca0606",
   "metadata": {},
   "outputs": [],
   "source": [
    "if det != 0:\n",
    "    z = la.solve(A,b)\n",
    "else:\n",
    "    print('No solution')\n",
    "print(z)"
   ]
  },
  {
   "cell_type": "markdown",
   "id": "b5009807-a949-4483-bfdf-ba2feac527e9",
   "metadata": {},
   "source": [
    "Another method to solve a linear system is using the library sympy, which is useful for performing symbolic manipulations. "
   ]
  },
  {
   "cell_type": "code",
   "execution_count": null,
   "id": "dadaf198-5e4c-4ede-b1d7-b9afd1b5b798",
   "metadata": {},
   "outputs": [],
   "source": [
    "import sympy as sym\n",
    "from sympy.solvers import solve\n",
    "\n",
    "x, y = sym.symbols(['x', 'y'])\n",
    "sol = solve([3 * x + y - 10, x + 2 * y - 5], [x,y])\n",
    "print(sol)"
   ]
  },
  {
   "cell_type": "markdown",
   "id": "049c8da4-8c87-41a8-82d7-a0f5234932a6",
   "metadata": {},
   "source": [
    "The solution is now stored 'symbolically' as x = 3 and y = 1. However, it is beneficial if we store the values in a numpy array, which we can do as follows."
   ]
  },
  {
   "cell_type": "code",
   "execution_count": null,
   "id": "4f7b010d-3221-4fa8-97d5-1d8c616f22a7",
   "metadata": {},
   "outputs": [],
   "source": [
    "solution_array = np.array(list(sol.values()), dtype = 'float')\n",
    "print(solution_array)"
   ]
  }
 ],
 "metadata": {
  "kernelspec": {
   "display_name": "Python 3 (ipykernel)",
   "language": "python",
   "name": "python3"
  },
  "language_info": {
   "codemirror_mode": {
    "name": "ipython",
    "version": 3
   },
   "file_extension": ".py",
   "mimetype": "text/x-python",
   "name": "python",
   "nbconvert_exporter": "python",
   "pygments_lexer": "ipython3",
   "version": "3.10.12"
  }
 },
 "nbformat": 4,
 "nbformat_minor": 5
}
