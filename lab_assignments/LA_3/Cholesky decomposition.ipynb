{
 "cells": [
  {
   "cell_type": "code",
   "execution_count": null,
   "id": "ee0e92c3-7734-4077-96d6-825af7bff11b",
   "metadata": {},
   "outputs": [],
   "source": [
    "import numpy as np\n",
    "import numpy.linalg as la\n",
    "\n",
    "A = np.array([[4, 12, -16],\n",
    "              [12, 37, -43],\n",
    "              [-16, -43, 98]], dtype = float)\n",
    "def cholesky(M):\n",
    "    n = M.shape[0]\n",
    "    L = np.zeros((n,n), dtype = float)\n",
    "\n",
    "    for i in range(n):\n",
    "        for j in range(i+1):\n",
    "            if i == j:\n",
    "                s = 0\n",
    "                for k in range(i):\n",
    "                    s += L[j, k] ** 2 \n",
    "                L[i, j] = np.sqrt(M[i, j] - s) \n",
    "            elif i>j:\n",
    "                s = 0\n",
    "                for k in range(i):\n",
    "                    s += L[i,k] * L[j,k]\n",
    "                L[i, j] = (M[i, j] - s) / L[j, j]\n",
    "    return L\n",
    "\n",
    "L = cholesky(A)\n",
    "print(L)"
   ]
  },
  {
   "cell_type": "code",
   "execution_count": null,
   "id": "36d46ffd-abfe-408c-b6c9-7951070d6f89",
   "metadata": {},
   "outputs": [],
   "source": [
    "print(np.dot(L, np.transpose(L)))"
   ]
  }
 ],
 "metadata": {
  "kernelspec": {
   "display_name": "Python 3 (ipykernel)",
   "language": "python",
   "name": "python3"
  },
  "language_info": {
   "codemirror_mode": {
    "name": "ipython",
    "version": 3
   },
   "file_extension": ".py",
   "mimetype": "text/x-python",
   "name": "python",
   "nbconvert_exporter": "python",
   "pygments_lexer": "ipython3",
   "version": "3.10.12"
  }
 },
 "nbformat": 4,
 "nbformat_minor": 5
}
