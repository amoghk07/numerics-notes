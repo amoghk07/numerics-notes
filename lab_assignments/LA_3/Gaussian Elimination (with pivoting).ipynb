{
 "cells": [
  {
   "cell_type": "code",
   "execution_count": null,
   "id": "a098fba5-6acd-4d34-87f4-c274f68bc301",
   "metadata": {},
   "outputs": [],
   "source": [
    "import numpy as np\n",
    "import numpy.linalg as la\n",
    "\n",
    "A1 = np.array([[0.01, 1, 5.5],\n",
    "             [1, 2, 0.004],\n",
    "             [0, 0, 3]], dtype = float)\n",
    "\n",
    "b1 = np.array([1, 3, 5], dtype = float)\n",
    "\n",
    "A2 = np.array([[10**(-20), 1],\n",
    "               [1, 1]], dtype = float)\n",
    "\n",
    "b2 = np.array([1, 2],dtype = float)"
   ]
  },
  {
   "cell_type": "markdown",
   "id": "ae2dcfc8-4256-4806-ad91-7579ae6c9d08",
   "metadata": {},
   "source": [
    "<font size = \"4\"> Gaussian elimination involves first reducing the matrix to its row reduced echelon form, and then, performing back substitution to solve for x </font>"
   ]
  },
  {
   "cell_type": "code",
   "execution_count": null,
   "id": "512865ac-2278-4393-ac07-6ff591ceaf93",
   "metadata": {},
   "outputs": [],
   "source": [
    "def back_sub(A, b):\n",
    "    n = len(b)\n",
    "    x = np.zeros(len(b))\n",
    "    for i in range(n - 1, -1, -1):\n",
    "        if A[i, i] == 0:\n",
    "            raise ValueError(\"Matrix is singular\")\n",
    "        x[i] = b[i]\n",
    "        for j in range(i+1, n):\n",
    "            x[i] -= A[i, j] * x[j]\n",
    "        x[i] = x[i] / A[i, i]\n",
    "    return x"
   ]
  },
  {
   "cell_type": "markdown",
   "id": "67920ebb-3150-413a-b00a-1d756905fa9a",
   "metadata": {},
   "source": [
    "<font size = \"4\"> Given a matrix $A$ of size $m\\times n$,  $B = A.\\texttt{reshape}(p, q)$ will reshape the matrix $A$ into a new matrix $B$ of size $p\\times q$. \n",
    "Note that $mn = pq$ for this to work. Giving a $-1$ in the first argument will imply that the compiler can select the number of rows according to the number of columns given. </font>\n"
   ]
  },
  {
   "cell_type": "markdown",
   "id": "b6bb76af-8609-4f4e-b79f-eac2eac0efbf",
   "metadata": {},
   "source": [
    "<font size = \"4\"> Next, we loop over the columns and find the pivot (largest element) in each column and grab the index of the pivot using np.argmax(). Then, we swap the rows if necessary and further, we will reduce the matrix A to its row reduced echelon form </font>"
   ]
  },
  {
   "cell_type": "code",
   "execution_count": null,
   "id": "6e9f81a6-e105-4766-88cd-0e95fe58eefb",
   "metadata": {},
   "outputs": [],
   "source": [
    "def Gauss_elim(A,b):\n",
    "    n = len(b)\n",
    "    Ab = np.hstack([A,b.reshape(-1,1)], dtype = float) #Create the augmented matrix [A|b]\n",
    "\n",
    "    for i in range(n):\n",
    "        row_ind = np.argmax(Ab[i:, i]) + i # Ab[i:, i] will be the vector consisting of the elements of the i'th column of Ab from row i and below.\n",
    "        if Ab[row_ind, i] == 0:\n",
    "            print(\"Pivoting failed, matrix singular\")\n",
    "        if row_ind != i:               # If the pivot element is not in the current row i, then swap the rows so that the pivot is now on the diagonal.\n",
    "            temp = Ab[i].copy()        # Store row i temporarily\n",
    "            Ab[i] = Ab[row_ind]        # Replace row i with row row_ind\n",
    "            Ab[row_ind] = temp         # Replace row row_ind with the original row i\n",
    "    \n",
    "    # Now, we make the entries below the pivot to be 0.    \n",
    "        for j in range(i+1, n):\n",
    "            z = Ab[j, i] / Ab[i, i]\n",
    "            for k in range(i, n+1):\n",
    "                Ab[j, k] = Ab[j, k] - z * Ab[i, k]\n",
    "    \n",
    "    A_rref = Ab[0:n, 0:n] # Grabbing the n x n row reduced echelon form of A from the augmented matrix Ab\n",
    "    b_mod = Ab[:,n] # Saving the modified Rhs from augmented matrix Ab\n",
    "\n",
    "    y = back_sub(A_rref, b_mod)\n",
    "    return(y)"
   ]
  },
  {
   "cell_type": "markdown",
   "id": "ba32d3e4-31d5-4fb9-b804-5207f32f7555",
   "metadata": {},
   "source": [
    "<font size = \"4\"> This completes the pivoting process and should yield a upper triangular matrix $A$ augmented with the right-hand side $b$. Now, we simply need to perform back substitution to solve for $x$ </font>"
   ]
  },
  {
   "cell_type": "code",
   "execution_count": null,
   "id": "e9ccea02-8617-47a8-aa42-ebbb5f8e8711",
   "metadata": {},
   "outputs": [],
   "source": [
    "p1 = la.solve(A1,b1)\n",
    "x1 = Gauss_elim(A1,b1)\n",
    "\n",
    "print(p1) # Solution for Ax=b using la.solve\n",
    "print(x1) # Solution for the linear system after we have performed Gaussian elimination and back substitution"
   ]
  },
  {
   "cell_type": "code",
   "execution_count": null,
   "id": "1c68b1ae-dfca-44cf-88a5-9c1de9d4e7af",
   "metadata": {},
   "outputs": [],
   "source": [
    "p2 = la.solve(A2,b2)\n",
    "x2 = Gauss_elim(A2,b2)\n",
    "\n",
    "print(p2) # Solution for Ax=b using la.solve\n",
    "print(x2) # Solution for the linear system after we have performed Gaussian elimination and back substitution\n"
   ]
  }
 ],
 "metadata": {
  "kernelspec": {
   "display_name": "Python 3 (ipykernel)",
   "language": "python",
   "name": "python3"
  },
  "language_info": {
   "codemirror_mode": {
    "name": "ipython",
    "version": 3
   },
   "file_extension": ".py",
   "mimetype": "text/x-python",
   "name": "python",
   "nbconvert_exporter": "python",
   "pygments_lexer": "ipython3",
   "version": "3.10.12"
  }
 },
 "nbformat": 4,
 "nbformat_minor": 5
}
