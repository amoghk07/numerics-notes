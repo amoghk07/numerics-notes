{
 "cells": [
  {
   "cell_type": "code",
   "execution_count": 4,
   "id": "91f0c16e-458f-4cb3-9888-0c9311ce17e9",
   "metadata": {},
   "outputs": [
    {
     "name": "stdout",
     "output_type": "stream",
     "text": [
      "[[ 1.00000000e+00 -1.69128310e-20  0.00000000e+00]\n",
      " [ 3.12500000e-01  1.00000000e+00  0.00000000e+00]\n",
      " [ 6.25000000e-01  3.49828107e-01  1.00000000e+00]]\n",
      "[[4.80000000e+00 1.00000000e-03 1.00000000e+00]\n",
      " [0.00000000e+00 2.99968750e+00 1.68750000e+00]\n",
      " [0.00000000e+00 0.00000000e+00 5.58466507e+00]]\n",
      "[[0. 0. 1.]\n",
      " [1. 0. 0.]\n",
      " [0. 1. 0.]]\n",
      "[[1.50e+00 3.00e+00 2.00e+00]\n",
      " [3.00e+00 1.05e+00 6.80e+00]\n",
      " [4.80e+00 1.00e-03 1.00e+00]]\n"
     ]
    }
   ],
   "source": [
    "import numpy as np\n",
    "import numpy.linalg as la\n",
    "\n",
    "A = np.array([[1.5, 3, 2],\n",
    "              [3, 1.05, 6.8],\n",
    "              [4.8, 0.001, 1]], dtype = float)\n",
    "\n",
    "def LU_dcomp(matrix):\n",
    "    \n",
    "    n = matrix.shape[0]\n",
    "    P = np.eye(n) # Creates an identity matrix of size n x n. We will save the permutation matrix P here.\n",
    "    U = matrix.copy()\n",
    "    \n",
    "    for i in range(n):\n",
    "        row_ind = np.argmax(U[i:, i]) + i   # mat[i:, i] will be the vector consisting of the elements of the i'th column of mat from row i and below.\n",
    "        if row_ind != i:                    # If the pivot element is not in the current row i, then swap the rows so that the pivot is now on the diagonal.\n",
    "            temp = U[i].copy()              # Store row i temporarily\n",
    "            U[i] = U[row_ind]               # Replace row i with row row_ind\n",
    "            U[row_ind] = temp               # Replace row row_ind with the original row i\n",
    "\n",
    "            temp = P[i].copy()            \n",
    "            P[i] = P[row_ind]           \n",
    "            P[row_ind] = temp             \n",
    "\n",
    "        # Now, we make the entries below the pivot to be 0.    \n",
    "        for j in range(i+1, n):\n",
    "            z = U[j, i] / U[i, i]\n",
    "            for k in range(i, n):\n",
    "                U[j, k] = U[j, k] - z * U[i, k]\n",
    "\n",
    "        # The unit lower triangular matrix is now given by L = PAU^{-1}\n",
    "\n",
    "        L = np.dot(np.dot(P, A), la.inv(U))\n",
    "        \n",
    "    return L,U,P\n",
    "    \n",
    "L_A, U_A, P_A = LU_dcomp(A)\n",
    "\n",
    "print(L_A)\n",
    "print(U_A)\n",
    "print(P_A)\n",
    "print(np.dot(la.inv(P_A), np.dot(L_A, U_A)))"
   ]
  },
  {
   "cell_type": "code",
   "execution_count": null,
   "id": "395981bf-eacb-430d-8074-5e8c05bf7ea8",
   "metadata": {},
   "outputs": [],
   "source": []
  }
 ],
 "metadata": {
  "kernelspec": {
   "display_name": "Python 3 (ipykernel)",
   "language": "python",
   "name": "python3"
  },
  "language_info": {
   "codemirror_mode": {
    "name": "ipython",
    "version": 3
   },
   "file_extension": ".py",
   "mimetype": "text/x-python",
   "name": "python",
   "nbconvert_exporter": "python",
   "pygments_lexer": "ipython3",
   "version": "3.10.12"
  }
 },
 "nbformat": 4,
 "nbformat_minor": 5
}
