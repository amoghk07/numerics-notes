{
 "cells": [
  {
   "cell_type": "code",
   "execution_count": 21,
   "id": "91f0c16e-458f-4cb3-9888-0c9311ce17e9",
   "metadata": {},
   "outputs": [],
   "source": [
    "import numpy as np\n",
    "import numpy.linalg as la\n",
    "\n",
    "A = np.array([[1.5, 3, 2],\n",
    "              [3, 1.05, 6.8],\n",
    "              [4.8, 0.001, 1]], dtype = float)\n",
    "\n",
    "b = np.array([0.5, 1, 0.01],dtype = float)\n",
    "\n",
    "def LU_dcomp(matrix):\n",
    "    \n",
    "    n = matrix.shape[0]\n",
    "    P = np.eye(n) # Creates an identity matrix of size n x n. We will save the permutation matrix P here.\n",
    "    U = matrix.copy()\n",
    "    L = np.eye(n)\n",
    "    \n",
    "    for i in range(n):\n",
    "        row_ind = np.argmax(U[i:, i]) + i   # mat[i:, i] will be the vector consisting of the elements of the i'th column of mat from row i and below.\n",
    "        if row_ind != i:                    # If the pivot element is not in the current row i, then swap the rows so that the pivot is now on the diagonal.\n",
    "            U[[i, row_ind], :] = U[[row_ind, i], :]\n",
    "            P[[i, row_ind], :] = P[[row_ind, i], :]\n",
    "            L[[i, row_ind], :i] = L[[row_ind, i], :i]\n",
    "            \n",
    "        # Now, we make the entries below the pivot to be 0.    \n",
    "        for j in range(i+1, n):\n",
    "            z = U[j, i] / U[i, i]\n",
    "            L[j, i] = z\n",
    "            for k in range(i, n):\n",
    "                U[j, k] = U[j, k] - z * U[i, k]                \n",
    "    return L,U,P\n",
    "\n",
    "def back_sub(A, b):\n",
    "    n = len(b)\n",
    "    x = np.zeros(len(b), dtype = float)\n",
    "    for i in range(n - 1, -1, -1):\n",
    "        if A[i, i] == 0:\n",
    "            raise ValueError(\"Matrix is singular\")\n",
    "        x[i] = b[i]\n",
    "        for j in range(i+1, n):\n",
    "            x[i] -= A[i, j] * x[j]\n",
    "        x[i] = x[i] / A[i, i]\n",
    "    return x\n",
    "\n",
    "def fwd_elim(A, b):\n",
    "    n = len(b)\n",
    "    x = np.zeros(len(b), dtype = float)\n",
    "    \n",
    "    for i in range(n):\n",
    "        if A[i, i] == 0:\n",
    "            raise ValueError(\"Matrix is singular\")\n",
    "        x[i] = b[i]\n",
    "        for j in range(0, i):\n",
    "            x[i] -= A[i, j] * x[j]\n",
    "        x[i] = x[i] / A[i, i]\n",
    "    \n",
    "    return x"
   ]
  },
  {
   "cell_type": "code",
   "execution_count": 22,
   "id": "395981bf-eacb-430d-8074-5e8c05bf7ea8",
   "metadata": {},
   "outputs": [
    {
     "name": "stdout",
     "output_type": "stream",
     "text": [
      "[[1.50e+00 3.00e+00 2.00e+00]\n",
      " [3.00e+00 1.05e+00 6.80e+00]\n",
      " [4.80e+00 1.00e-03 1.00e+00]]\n"
     ]
    }
   ],
   "source": [
    "L_A, U_A, P_A = LU_dcomp(A)\n",
    "#print(\"L =\", L_A, \"\\nU =\", U_A, \"\\nP =\", P_A)\n",
    "print(la.inv(P_A) @ L_A @ U_A)"
   ]
  },
  {
   "cell_type": "code",
   "execution_count": 20,
   "id": "b07b665f-6eaa-424b-82f0-a00fb3006b98",
   "metadata": {},
   "outputs": [
    {
     "name": "stdout",
     "output_type": "stream",
     "text": [
      "[-0.02852104  0.08304855  0.14681796]\n",
      "[-0.02852104  0.08304855  0.14681796]\n"
     ]
    }
   ],
   "source": [
    "y = fwd_elim(L_A, np.dot(P_A, b))\n",
    "x = back_sub(U_A, y)\n",
    "z = la.solve(A, b)\n",
    "\n",
    "print(x)\n",
    "print(z)"
   ]
  },
  {
   "cell_type": "code",
   "execution_count": null,
   "id": "58b49a15-356b-44ab-9a4a-e21ff72c00f9",
   "metadata": {},
   "outputs": [],
   "source": []
  }
 ],
 "metadata": {
  "kernelspec": {
   "display_name": "Python 3 (ipykernel)",
   "language": "python",
   "name": "python3"
  },
  "language_info": {
   "codemirror_mode": {
    "name": "ipython",
    "version": 3
   },
   "file_extension": ".py",
   "mimetype": "text/x-python",
   "name": "python",
   "nbconvert_exporter": "python",
   "pygments_lexer": "ipython3",
   "version": "3.10.12"
  }
 },
 "nbformat": 4,
 "nbformat_minor": 5
}
