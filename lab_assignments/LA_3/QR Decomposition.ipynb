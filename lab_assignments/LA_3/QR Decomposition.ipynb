{
 "cells": [
  {
   "cell_type": "code",
   "execution_count": null,
   "id": "060921a9-cc6e-4d27-b3b0-34e1f9457ac2",
   "metadata": {},
   "outputs": [],
   "source": [
    "import numpy as np\n",
    "import numpy.linalg as la\n",
    "\n",
    "A = np.array([[12, -51, 4],\n",
    "              [6, 167, -68], \n",
    "              [-4, 24, -41]], dtype = float)\n",
    "\n",
    "def QR_decomp(M):\n",
    "    n = M.shape[0]\n",
    "    Q = np.zeros((n, n), dtype = float)\n",
    "    U = np.zeros((n, n), dtype = float)\n",
    "\n",
    "    for j in range(n):\n",
    "        U[:, j] = M[:, j]\n",
    "        for i in range(j):\n",
    "            U[:,j] -= (np.dot(U[:, i], M[:, j]) / (np.dot(U[:, i], U[:, i]))) * U[:, i]\n",
    "        Q[:, j] = U[:, j] / la.norm(U[:,j])\n",
    "\n",
    "    R = np.dot(np.transpose(Q), A)\n",
    "    \n",
    "    return Q,R"
   ]
  },
  {
   "cell_type": "code",
   "execution_count": null,
   "id": "a301f8e1-9937-4674-9122-a0c22abf1274",
   "metadata": {},
   "outputs": [],
   "source": [
    "Q, R = QR_decomp(A)\n",
    "print(Q)\n",
    "print(R)"
   ]
  },
  {
   "cell_type": "code",
   "execution_count": null,
   "id": "58710582-0708-4b4d-8944-d6f84a72c9f3",
   "metadata": {},
   "outputs": [],
   "source": [
    "print(np.dot(Q, np.transpose(Q)))"
   ]
  },
  {
   "cell_type": "code",
   "execution_count": null,
   "id": "ef50f46b-bfe9-4506-9b3f-737cdac3ae90",
   "metadata": {},
   "outputs": [],
   "source": [
    "print(np.dot(Q,R))"
   ]
  }
 ],
 "metadata": {
  "kernelspec": {
   "display_name": "Python 3 (ipykernel)",
   "language": "python",
   "name": "python3"
  },
  "language_info": {
   "codemirror_mode": {
    "name": "ipython",
    "version": 3
   },
   "file_extension": ".py",
   "mimetype": "text/x-python",
   "name": "python",
   "nbconvert_exporter": "python",
   "pygments_lexer": "ipython3",
   "version": "3.10.12"
  }
 },
 "nbformat": 4,
 "nbformat_minor": 5
}
