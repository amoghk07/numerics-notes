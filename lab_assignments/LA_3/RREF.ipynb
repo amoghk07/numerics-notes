{
 "cells": [
  {
   "cell_type": "code",
   "execution_count": null,
   "id": "f35d3ec0-f54e-4486-a620-7807545e573d",
   "metadata": {},
   "outputs": [],
   "source": [
    "import numpy as np\n",
    "import numpy.linalg as la\n",
    "\n",
    "A = np.array([[1, 2, 2],\n",
    "              [4, 4, 2],\n",
    "              [4, 6, 4]], dtype = float)\n",
    "\n",
    "B = np.array([[3, 6],\n",
    "              [2, 4]], dtype = float)\n",
    "\n",
    "def rref(matrix):\n",
    "    n = matrix.shape[0]\n",
    "    U = matrix.copy()\n",
    "    for i in range(n):\n",
    "        row_ind = np.argmax(U[i:, i]) + i   # U[i:, i] will be the vector consisting of the elements of the i'th column of U from row i and below.\n",
    "        if row_ind != i:                    # If the pivot element is not in the current row i, then swap the rows so that the pivot is now on the diagonal.\n",
    "            temp = U[i].copy()              # Store row i temporarily\n",
    "            U[i] = U[row_ind]               # Replace row i with row row_ind\n",
    "            U[row_ind] = temp               # Replace row row_ind with the original row i\n",
    "\n",
    "        # Now, we make the entries below the pivot to be 0.    \n",
    "        for j in range(i+1, n):\n",
    "            z = U[j, i] / U[i, i]\n",
    "            for k in range(i, n):\n",
    "                U[j, k] = U[j, k] - z * U[i, k]\n",
    "    return U\n",
    "    \n",
    "U_A = rref(A)\n",
    "U_B = rref(B)\n",
    "\n",
    "print(U_A)\n",
    "print(U_B)"
   ]
  },
  {
   "cell_type": "code",
   "execution_count": null,
   "id": "86477061-ef7d-46c5-a378-23f460dd27a9",
   "metadata": {},
   "outputs": [],
   "source": []
  }
 ],
 "metadata": {
  "kernelspec": {
   "display_name": "Python 3 (ipykernel)",
   "language": "python",
   "name": "python3"
  },
  "language_info": {
   "codemirror_mode": {
    "name": "ipython",
    "version": 3
   },
   "file_extension": ".py",
   "mimetype": "text/x-python",
   "name": "python",
   "nbconvert_exporter": "python",
   "pygments_lexer": "ipython3",
   "version": "3.10.12"
  }
 },
 "nbformat": 4,
 "nbformat_minor": 5
}
