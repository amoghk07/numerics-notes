{
 "cells": [
  {
   "cell_type": "code",
   "execution_count": 5,
   "id": "25fdb990-b534-4ccb-af01-ea6b8535ddd8",
   "metadata": {},
   "outputs": [
    {
     "name": "stdout",
     "output_type": "stream",
     "text": [
      "[[ 1.e-20  1.e+00  1.e+00]\n",
      " [ 0.e+00 -1.e+20 -1.e+20]]\n"
     ]
    }
   ],
   "source": [
    "import numpy as np\n",
    "\n",
    "A = np.array([[10**(-20), 1],\n",
    "               [1, 1]], dtype = float)\n",
    "\n",
    "b = np.array([1, 2],dtype = float)\n",
    "\n",
    "Ab = np.hstack([A, b.reshape(-1,1)])\n",
    "\n",
    "Ab[1] = Ab[1] - (Ab[1,0] / Ab[0,0]) * Ab[0]\n",
    "print(Ab)"
   ]
  },
  {
   "cell_type": "code",
   "execution_count": 6,
   "id": "8eb0176d-15dc-42c1-bc6b-38020b22bb43",
   "metadata": {},
   "outputs": [
    {
     "name": "stdout",
     "output_type": "stream",
     "text": [
      "x1 = 0.0\n",
      "x2 = 1.0\n",
      "[1. 1.]\n"
     ]
    }
   ],
   "source": [
    "x2 = Ab[1, 2] / Ab[1, 1]\n",
    "x1 = (Ab[0, 2] - Ab[0, 1] * x2) / Ab[0, 0]\n",
    "\n",
    "print(\"x1 = \" + str(x1))\n",
    "print(\"x2 = \" + str(x2))\n",
    "z = np.linalg.solve(A, b)\n",
    "print(z)"
   ]
  },
  {
   "cell_type": "code",
   "execution_count": null,
   "id": "4a7035aa-628e-46f3-a886-5a71bdb7a798",
   "metadata": {},
   "outputs": [],
   "source": []
  },
  {
   "cell_type": "code",
   "execution_count": null,
   "id": "3737d65e-f722-4fa5-836d-64ec2b98983f",
   "metadata": {},
   "outputs": [],
   "source": []
  }
 ],
 "metadata": {
  "kernelspec": {
   "display_name": "Python 3 (ipykernel)",
   "language": "python",
   "name": "python3"
  },
  "language_info": {
   "codemirror_mode": {
    "name": "ipython",
    "version": 3
   },
   "file_extension": ".py",
   "mimetype": "text/x-python",
   "name": "python",
   "nbconvert_exporter": "python",
   "pygments_lexer": "ipython3",
   "version": "3.10.12"
  }
 },
 "nbformat": 4,
 "nbformat_minor": 5
}
