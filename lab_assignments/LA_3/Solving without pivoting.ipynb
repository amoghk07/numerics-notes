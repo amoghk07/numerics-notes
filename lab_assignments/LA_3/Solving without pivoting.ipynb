{
 "cells": [
  {
   "cell_type": "code",
   "execution_count": null,
   "id": "25fdb990-b534-4ccb-af01-ea6b8535ddd8",
   "metadata": {},
   "outputs": [],
   "source": [
    "import numpy as np\n",
    "\n",
    "A = np.array([[10**(-20), 1],\n",
    "               [1, 1]], dtype = float)\n",
    "\n",
    "b = np.array([1, 2],dtype = float)\n",
    "\n",
    "Ab = np.hstack([A, b.reshape(-1,1)])\n",
    "\n",
    "Ab[1] = Ab[1] - (Ab[1,0] / Ab[0,0]) * Ab[0]\n",
    "print(Ab)"
   ]
  },
  {
   "cell_type": "code",
   "execution_count": null,
   "id": "8eb0176d-15dc-42c1-bc6b-38020b22bb43",
   "metadata": {},
   "outputs": [],
   "source": [
    "x2 = Ab[1, 2] / Ab[1, 1]\n",
    "x1 = (Ab[0, 2] - Ab[0, 1] * x2) / Ab[0, 0]\n",
    "\n",
    "print(\"x1 = \", x1)\n",
    "print(\"x2 = \", x2)"
   ]
  },
  {
   "cell_type": "code",
   "execution_count": null,
   "id": "5c48e3ad-5040-42a9-9f17-5dba2ab8665a",
   "metadata": {},
   "outputs": [],
   "source": [
    "z = np.linalg.solve(A, b)\n",
    "print(z)"
   ]
  }
 ],
 "metadata": {
  "kernelspec": {
   "display_name": "Python 3 (ipykernel)",
   "language": "python",
   "name": "python3"
  },
  "language_info": {
   "codemirror_mode": {
    "name": "ipython",
    "version": 3
   },
   "file_extension": ".py",
   "mimetype": "text/x-python",
   "name": "python",
   "nbconvert_exporter": "python",
   "pygments_lexer": "ipython3",
   "version": "3.10.12"
  }
 },
 "nbformat": 4,
 "nbformat_minor": 5
}
