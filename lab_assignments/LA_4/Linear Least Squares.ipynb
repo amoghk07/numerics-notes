{
 "cells": [
  {
   "cell_type": "code",
   "execution_count": 1,
   "id": "20c7ade3-0de9-400f-831e-4c0faf4f79e3",
   "metadata": {},
   "outputs": [],
   "source": [
    "import numpy as np\n",
    "import numpy.linalg as la\n",
    "\n",
    "A = np.array([[1, 0, 0],\n",
    "             [0, 1, 0],\n",
    "             [0, 0, 1],\n",
    "             [-1, 1, 0],\n",
    "             [-1, 0, 1],\n",
    "             [0, -1, 1]], dtype = float)\n",
    "b = np.array([1237, 1941, 2417, 711, 1177, 475], dtype = float)"
   ]
  },
  {
   "cell_type": "code",
   "execution_count": 2,
   "id": "c322853d-6ff9-4363-a7ad-b8932aca13e2",
   "metadata": {},
   "outputs": [
    {
     "name": "stdout",
     "output_type": "stream",
     "text": [
      "[[ 3. -1. -1.]\n",
      " [-1.  3. -1.]\n",
      " [-1. -1.  3.]]\n",
      "[-651. 2177. 4069.]\n"
     ]
    }
   ],
   "source": [
    "N = np.dot(np.transpose(A), A)\n",
    "z = np.dot(np.transpose(A), b)\n",
    "print(N)\n",
    "print(z)"
   ]
  },
  {
   "cell_type": "code",
   "execution_count": 3,
   "id": "15f70766-3fda-4b27-b279-f6eade029cd3",
   "metadata": {},
   "outputs": [
    {
     "name": "stdout",
     "output_type": "stream",
     "text": [
      "[1236. 1943. 2416.]\n"
     ]
    }
   ],
   "source": [
    "def cholesky(M):\n",
    "    n = M.shape[0]\n",
    "    L = np.zeros((n,n), dtype = float)\n",
    "\n",
    "    for i in range(n):\n",
    "        for j in range(i+1):\n",
    "            if i == j:\n",
    "                s = 0\n",
    "                for k in range(i):\n",
    "                    s += L[j, k] ** 2 \n",
    "                L[i, j] = np.sqrt(M[i, j] - s) \n",
    "            elif i>j:\n",
    "                s = 0\n",
    "                for k in range(i):\n",
    "                    s += L[i,k] * L[j,k]\n",
    "                L[i, j] = (M[i, j] - s) / L[j, j]\n",
    "    return L\n",
    "\n",
    "def back_sub(A, b):\n",
    "    n = len(b)\n",
    "    x = np.zeros(len(b), dtype = float)\n",
    "    for i in range(n - 1, -1, -1):\n",
    "        if A[i, i] == 0:\n",
    "            raise ValueError(\"Matrix is singular\")\n",
    "        x[i] = b[i]\n",
    "        for j in range(i+1, n):\n",
    "            x[i] -= A[i, j] * x[j]\n",
    "        x[i] = x[i] / A[i, i]\n",
    "    return x\n",
    "\n",
    "def fwd_elim(A, b):\n",
    "    n = len(b)\n",
    "    x = np.zeros(len(b), dtype = float)\n",
    "    \n",
    "    for i in range(n):\n",
    "        if A[i, i] == 0:\n",
    "            raise ValueError(\"Matrix is singular\")\n",
    "        x[i] = b[i]\n",
    "        for j in range(0, i):\n",
    "            x[i] -= A[i, j] * x[j]\n",
    "        x[i] = x[i] / A[i, i]\n",
    "    \n",
    "    return x\n",
    "\n",
    "L = cholesky(N)\n",
    "w = fwd_elim(L, z)\n",
    "x = back_sub(np.transpose(L), w)\n",
    "\n",
    "print(x)"
   ]
  },
  {
   "cell_type": "code",
   "execution_count": 4,
   "id": "57647931-45fa-46cc-864e-34eafc78060f",
   "metadata": {},
   "outputs": [
    {
     "name": "stdout",
     "output_type": "stream",
     "text": [
      "[ 1. -2.  1.  4. -3.  2.]\n"
     ]
    }
   ],
   "source": [
    "y = np.dot(A, x)\n",
    "r = b - y\n",
    "print(r)"
   ]
  },
  {
   "cell_type": "code",
   "execution_count": 5,
   "id": "d7f2c5e3-2069-4eb6-b56d-7077444c5242",
   "metadata": {},
   "outputs": [
    {
     "name": "stdout",
     "output_type": "stream",
     "text": [
      "[-6.82121026e-13  2.27373675e-13 -6.82121026e-13]\n",
      "[-6.82121026e-13  2.27373675e-13 -6.82121026e-13]\n"
     ]
    }
   ],
   "source": [
    "print(np.dot(np.transpose(A), r))\n",
    "print(np.dot(r, A))"
   ]
  },
  {
   "cell_type": "code",
   "execution_count": 6,
   "id": "5376c2a3-1872-4c48-89d1-260fadc2d17b",
   "metadata": {},
   "outputs": [
    {
     "name": "stdout",
     "output_type": "stream",
     "text": [
      "[[ 0.5   0.25  0.25 -0.25 -0.25  0.  ]\n",
      " [ 0.25  0.5   0.25  0.25  0.   -0.25]\n",
      " [ 0.25  0.25  0.5   0.    0.25  0.25]\n",
      " [-0.25  0.25  0.    0.5   0.25 -0.25]\n",
      " [-0.25  0.    0.25  0.25  0.5   0.25]\n",
      " [ 0.   -0.25  0.25 -0.25  0.25  0.5 ]]\n"
     ]
    }
   ],
   "source": [
    "P = np.dot(np.dot(A, la.inv(np.dot(np.transpose(A), A))), np.transpose(A))\n",
    "print(P)"
   ]
  },
  {
   "cell_type": "code",
   "execution_count": 7,
   "id": "3cf05266-ff42-4dc9-8751-469ca83eeb82",
   "metadata": {},
   "outputs": [
    {
     "name": "stdout",
     "output_type": "stream",
     "text": [
      "[ 4.54747351e-13  2.27373675e-13  4.54747351e-13 -2.27373675e-13\n",
      "  0.00000000e+00  2.27373675e-13]\n"
     ]
    }
   ],
   "source": [
    "print(y - np.dot(P, b))"
   ]
  },
  {
   "cell_type": "code",
   "execution_count": 8,
   "id": "b1d3caf2-3551-4e53-a6c8-31638778e884",
   "metadata": {},
   "outputs": [
    {
     "name": "stdout",
     "output_type": "stream",
     "text": [
      "[[ 0.5  -0.25 -0.25  0.25  0.25  0.  ]\n",
      " [-0.25  0.5  -0.25 -0.25  0.    0.25]\n",
      " [-0.25 -0.25  0.5   0.   -0.25 -0.25]\n",
      " [ 0.25 -0.25  0.    0.5  -0.25  0.25]\n",
      " [ 0.25  0.   -0.25 -0.25  0.5  -0.25]\n",
      " [ 0.    0.25 -0.25  0.25 -0.25  0.5 ]]\n"
     ]
    }
   ],
   "source": [
    "P_perp = np.eye(6) - P\n",
    "print(P_perp)"
   ]
  },
  {
   "cell_type": "code",
   "execution_count": 9,
   "id": "e9ae99a1-e882-46f0-920d-7143149a6ead",
   "metadata": {},
   "outputs": [
    {
     "name": "stdout",
     "output_type": "stream",
     "text": [
      "[-4.54747351e-13 -2.27373675e-13 -4.54747351e-13  2.27373675e-13\n",
      "  0.00000000e+00 -2.27373675e-13]\n"
     ]
    }
   ],
   "source": [
    "print(r - np.dot(P_perp, b))"
   ]
  }
 ],
 "metadata": {
  "kernelspec": {
   "display_name": "Python 3 (ipykernel)",
   "language": "python",
   "name": "python3"
  },
  "language_info": {
   "codemirror_mode": {
    "name": "ipython",
    "version": 3
   },
   "file_extension": ".py",
   "mimetype": "text/x-python",
   "name": "python",
   "nbconvert_exporter": "python",
   "pygments_lexer": "ipython3",
   "version": "3.10.12"
  }
 },
 "nbformat": 4,
 "nbformat_minor": 5
}
