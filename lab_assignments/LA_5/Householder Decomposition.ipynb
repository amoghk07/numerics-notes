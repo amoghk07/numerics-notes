{
 "cells": [
  {
   "cell_type": "code",
   "execution_count": 1,
   "id": "3e6e2733-42dd-4ebe-977b-a98e7e364657",
   "metadata": {},
   "outputs": [],
   "source": [
    "import numpy as np\n",
    "import numpy.linalg as la\n",
    "\n",
    "def householder(mat):\n",
    "    m, n = mat.shape\n",
    "    Q_T = np.eye(m)\n",
    "    R = mat\n",
    "\n",
    "    for k in range(n):\n",
    "        #Computing v_k\n",
    "        alpha_k = - np.sign(R[k,k]) * la.norm(R[k:, k])\n",
    "        v_k = np.zeros(m)\n",
    "        v_k[k:] = R[k:, k]\n",
    "        v_k[k] -= alpha_k\n",
    "\n",
    "        #Computing beta_k\n",
    "        beta_k = np.dot(v_k, v_k)\n",
    "        if beta_k == 0:\n",
    "            continue\n",
    "\n",
    "        #Compute R\n",
    "        for j in range(k, n):\n",
    "            gamma_j = np.dot(v_k, R[:, j])\n",
    "            R[:,j] -= (2 * gamma_j / beta_k) * v_k\n",
    "\n",
    "        #Compute Q^T\n",
    "        for j in range(m):\n",
    "            delta_j = np.dot(v_k, Q_T[:, j])\n",
    "            Q_T[:,j] -= (2 * delta_j / beta_k) * v_k\n",
    "\n",
    "    return Q_T.T, R"
   ]
  },
  {
   "cell_type": "code",
   "execution_count": 2,
   "id": "24bdc265-d525-4f4b-b64b-7b619d2beabb",
   "metadata": {},
   "outputs": [
    {
     "name": "stdout",
     "output_type": "stream",
     "text": [
      "Q = \n",
      " [[-0.26726124  0.77151675  0.57735027]\n",
      " [-0.80178373  0.15430335 -0.57735027]\n",
      " [-0.53452248 -0.6172134   0.57735027]]\n",
      "Q^{-1} = \n",
      " [[-0.26726124 -0.80178373 -0.53452248]\n",
      " [ 0.77151675  0.15430335 -0.6172134 ]\n",
      " [ 0.57735027 -0.57735027  0.57735027]]\n",
      "QQ^T = \n",
      " [[ 1.00000000e+00  1.95242399e-16 -2.01213401e-17]\n",
      " [ 1.95242399e-16  1.00000000e+00  1.95242399e-16]\n",
      " [-2.01213401e-17  1.95242399e-16  1.00000000e+00]]\n",
      "R = \n",
      " [[-3.74165739e+00 -1.14922334e+01]\n",
      " [-8.88178420e-16 -1.38873015e+00]\n",
      " [-4.44089210e-16  0.00000000e+00]]\n",
      "QR = \n",
      " [[1. 2.]\n",
      " [3. 9.]\n",
      " [2. 7.]]\n"
     ]
    }
   ],
   "source": [
    "A = np.array([[1, 2], \n",
    "              [3, 9], \n",
    "              [2, 7]], dtype = float)\n",
    "Q, R = householder(A)\n",
    "print(\"Q = \\n\", Q)\n",
    "print(\"Q^{-1} = \\n\", la.inv(Q))\n",
    "print(\"QQ^T = \\n\", np.dot(Q, Q.T))\n",
    "print(\"R = \\n\", R)\n",
    "print(\"QR = \\n\", np.dot(Q,R))"
   ]
  },
  {
   "cell_type": "code",
   "execution_count": 3,
   "id": "553e67f8-208e-42fb-8e9d-95fceaac615f",
   "metadata": {},
   "outputs": [
    {
     "name": "stdout",
     "output_type": "stream",
     "text": [
      "Q = \n",
      " [[-0.22903933  0.94149141  0.24725475]\n",
      " [-0.97341717 -0.22152739 -0.05817759]\n",
      " [ 0.          0.25400697 -0.96720239]]\n",
      "Q^{-1} = \n",
      " [[-0.22903933 -0.97341717 -0.        ]\n",
      " [ 0.94149141 -0.22152739  0.25400697]\n",
      " [ 0.24725475 -0.05817759 -0.96720239]]\n",
      "QQ^T = \n",
      " [[ 1.00000000e+00 -1.06055711e-16  5.28325992e-17]\n",
      " [-1.06055711e-16  1.00000000e+00 -1.22639958e-17]\n",
      " [ 5.28325992e-17 -1.22639958e-17  1.00000000e+00]]\n",
      "R = \n",
      " [[-17.4642492   -6.92843985  -3.26381051]\n",
      " [  0.           7.87379967  11.98746338]\n",
      " [  0.           0.          -8.2248564 ]]\n",
      "QR = \n",
      " [[ 4.  9. 10.]\n",
      " [17.  5.  1.]\n",
      " [ 0.  2. 11.]]\n"
     ]
    }
   ],
   "source": [
    "B = np.array([[4, 9 ,10], \n",
    "              [17, 5 , 1], \n",
    "              [0, 2, 11]], dtype = float)\n",
    "Q, R = householder(B)\n",
    "print(\"Q = \\n\", Q)\n",
    "print(\"Q^{-1} = \\n\", la.inv(Q))\n",
    "print(\"QQ^T = \\n\", np.dot(Q, Q.T))\n",
    "print(\"R = \\n\", R)\n",
    "print(\"QR = \\n\", np.dot(Q,R))"
   ]
  },
  {
   "cell_type": "code",
   "execution_count": null,
   "id": "c0f432b1-e38b-4745-a7fa-201134c41e56",
   "metadata": {},
   "outputs": [],
   "source": []
  }
 ],
 "metadata": {
  "kernelspec": {
   "display_name": "Python 3 (ipykernel)",
   "language": "python",
   "name": "python3"
  },
  "language_info": {
   "codemirror_mode": {
    "name": "ipython",
    "version": 3
   },
   "file_extension": ".py",
   "mimetype": "text/x-python",
   "name": "python",
   "nbconvert_exporter": "python",
   "pygments_lexer": "ipython3",
   "version": "3.10.12"
  }
 },
 "nbformat": 4,
 "nbformat_minor": 5
}
