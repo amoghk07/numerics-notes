{
 "cells": [
  {
   "cell_type": "code",
   "execution_count": 56,
   "id": "cacdf286-000d-4861-947f-f3a9aeedabd9",
   "metadata": {},
   "outputs": [],
   "source": [
    "import numpy as np\n",
    "import numpy.linalg as la\n",
    "\n",
    "A = np.array([[1, 0, 0],\n",
    "             [0, 1, 0],\n",
    "             [0, 0, 1],\n",
    "             [-1, 1, 0],\n",
    "             [-1, 0, 1],\n",
    "             [0, -1, 1]], dtype = float)\n",
    "b = np.array([1237, 1941, 2417, 711, 1177, 475], dtype = float)"
   ]
  },
  {
   "cell_type": "code",
   "execution_count": 57,
   "id": "0f2395b5-633e-4ce7-975b-f54d845a1f89",
   "metadata": {},
   "outputs": [],
   "source": [
    "def householder(mat):\n",
    "    m, n = mat.shape\n",
    "    Q = np.eye(m, dtype = float)\n",
    "    R = mat.copy()\n",
    "\n",
    "    for k in range(n):\n",
    "        #Computing v_k\n",
    "        alpha_k = - np.sign(R[k,k]) * la.norm(R[k:, k])\n",
    "        v_k = np.zeros(m)\n",
    "        v_k[k:] = R[k:, k]\n",
    "        v_k[k] -= alpha_k\n",
    "\n",
    "        #Computing beta_k\n",
    "        beta_k = np.dot(v_k, v_k)\n",
    "        if beta_k == 0:\n",
    "            continue\n",
    "\n",
    "        #Compute R\n",
    "        for j in range(k, n):\n",
    "            gamma_j = np.dot(v_k, R[:, j])\n",
    "            R[:,j] -= (2 * gamma_j / beta_k) * v_k\n",
    "\n",
    "        #Compute Q^T\n",
    "        for j in range(m):\n",
    "            delta_j = np.dot(v_k, Q[:, j])\n",
    "            Q[:,j] -= (2 * delta_j / beta_k) * v_k\n",
    "\n",
    "    return Q.T, R\n",
    "\n",
    "def back_sub(A, b):\n",
    "    n = len(b)\n",
    "    x = np.zeros(len(b), dtype = float)\n",
    "    for i in range(n - 1, -1, -1):\n",
    "        if A[i, i] == 0:\n",
    "            raise ValueError(\"Matrix is singular\")\n",
    "        x[i] = b[i]\n",
    "        for j in range(i+1, n):\n",
    "            x[i] -= A[i, j] * x[j]\n",
    "        x[i] = x[i] / A[i, i]\n",
    "    return x"
   ]
  },
  {
   "cell_type": "code",
   "execution_count": 60,
   "id": "757c3f81-bab5-4038-904e-f9de675b9f62",
   "metadata": {},
   "outputs": [
    {
     "name": "stdout",
     "output_type": "stream",
     "text": [
      "[1236. 1943. 2416.]\n"
     ]
    }
   ],
   "source": [
    "Q, R = householder(A)\n",
    "R_mod = R[:3, :3]\n",
    "b_mod = np.dot(Q.T,b)[:3]\n",
    "y = back_sub(R_mod, b_mod)\n",
    "print(y)"
   ]
  },
  {
   "cell_type": "code",
   "execution_count": 61,
   "id": "adcaece0-3642-48ff-9e5d-f1323b294d23",
   "metadata": {},
   "outputs": [
    {
     "name": "stdout",
     "output_type": "stream",
     "text": [
      "[1236. 1943. 2416.]\n"
     ]
    }
   ],
   "source": [
    "N = np.dot(np.transpose(A), A)\n",
    "z = np.dot(np.transpose(A), b)\n",
    "w = la.solve(N, z)\n",
    "print(w)"
   ]
  },
  {
   "cell_type": "code",
   "execution_count": null,
   "id": "7c081cf7-4de2-4af9-92b4-0b380f99bc81",
   "metadata": {},
   "outputs": [],
   "source": []
  }
 ],
 "metadata": {
  "kernelspec": {
   "display_name": "Python 3 (ipykernel)",
   "language": "python",
   "name": "python3"
  },
  "language_info": {
   "codemirror_mode": {
    "name": "ipython",
    "version": 3
   },
   "file_extension": ".py",
   "mimetype": "text/x-python",
   "name": "python",
   "nbconvert_exporter": "python",
   "pygments_lexer": "ipython3",
   "version": "3.10.12"
  }
 },
 "nbformat": 4,
 "nbformat_minor": 5
}
