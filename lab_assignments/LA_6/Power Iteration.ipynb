{
 "cells": [
  {
   "cell_type": "code",
   "execution_count": 57,
   "id": "8dc9abaa-7ff8-44c5-aeca-d01556cf0aae",
   "metadata": {},
   "outputs": [],
   "source": [
    "import numpy as np\n",
    "import numpy.linalg as la\n",
    "\n",
    "A = np.array([[1, 1, 1],\n",
    "              [3, 1, -3],\n",
    "              [1, -2, -5]], dtype = float)\n",
    "\n",
    "x0 = np.array([0, 1, 1], dtype = float)\n",
    "x1 = np.array([3, -2, 1], dtype = float)\n",
    "x2 = np.array([-2, -6, 1], dtype = float)"
   ]
  },
  {
   "cell_type": "code",
   "execution_count": 58,
   "id": "2e0572cf-5515-4177-8ab5-408a640ae140",
   "metadata": {},
   "outputs": [],
   "source": [
    "def NPI(A, x0, tol, max_iter):\n",
    "    x = x0 / np.linalg.norm(x0)\n",
    "    for k in range(max_iter):\n",
    "        Ax = A @ x \n",
    "        x_new = Ax / np.linalg.norm(Ax)\n",
    "        evalue = x_new.T @ A @ x_new\n",
    "\n",
    "        if la.norm(x_new - x, np.inf) < tol:\n",
    "            break\n",
    "        x = x_new\n",
    "\n",
    "    return evalue, x"
   ]
  },
  {
   "cell_type": "code",
   "execution_count": 59,
   "id": "c6517fea-bc3c-4246-b402-56b917b775a2",
   "metadata": {},
   "outputs": [
    {
     "name": "stdout",
     "output_type": "stream",
     "text": [
      "-6.2133494180048725\n",
      "[-0.18297672  0.44143747  0.87843752]\n"
     ]
    }
   ],
   "source": [
    "evalue, evector = NPI(A, x0, 1.0e-8, 100)\n",
    "print(evalue)\n",
    "print(evector)"
   ]
  },
  {
   "cell_type": "code",
   "execution_count": 60,
   "id": "51a2c738-4b93-4a9c-b068-0ef5ab0b2ad1",
   "metadata": {},
   "outputs": [
    {
     "name": "stdout",
     "output_type": "stream",
     "text": [
      "-6.2133494180048725\n",
      "[ 0.18297672 -0.44143747 -0.87843752]\n"
     ]
    }
   ],
   "source": [
    "evalue, evector = NPI(A, x1, 1.0e-8, 100)\n",
    "print(evalue)\n",
    "print(evector)"
   ]
  },
  {
   "cell_type": "code",
   "execution_count": 61,
   "id": "c3946016-3412-4872-ab4f-f64d1c62064d",
   "metadata": {},
   "outputs": [
    {
     "name": "stdout",
     "output_type": "stream",
     "text": [
      "-6.2133494180048725\n",
      "[ 0.18297672 -0.44143747 -0.87843752]\n"
     ]
    }
   ],
   "source": [
    "evalue, evector = NPI(A, x2, 1.0e-8, 100)\n",
    "print(evalue)\n",
    "print(evector)"
   ]
  },
  {
   "cell_type": "code",
   "execution_count": null,
   "id": "4e3085b7-6fd2-4dff-a5c4-7ffede00a206",
   "metadata": {},
   "outputs": [],
   "source": []
  }
 ],
 "metadata": {
  "kernelspec": {
   "display_name": "Python 3 (ipykernel)",
   "language": "python",
   "name": "python3"
  },
  "language_info": {
   "codemirror_mode": {
    "name": "ipython",
    "version": 3
   },
   "file_extension": ".py",
   "mimetype": "text/x-python",
   "name": "python",
   "nbconvert_exporter": "python",
   "pygments_lexer": "ipython3",
   "version": "3.10.12"
  }
 },
 "nbformat": 4,
 "nbformat_minor": 5
}
