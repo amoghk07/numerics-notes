{
 "cells": [
  {
   "cell_type": "code",
   "execution_count": 124,
   "id": "f6926573-8239-473f-9cbb-95f02a8542fe",
   "metadata": {},
   "outputs": [],
   "source": [
    "import numpy as np\n",
    "import numpy.linalg as la\n",
    "\n",
    "A = np.array([[1, 1, 1],\n",
    "              [3, 1, -3],\n",
    "              [1, -2, -5]], dtype = float)\n",
    "\n",
    "x0 = np.array([0, 1, 1], dtype = float)\n",
    "x1 = np.array([3, -2, 1], dtype = float)\n",
    "x2 = np.array([-2, -6, 1], dtype = float)"
   ]
  },
  {
   "cell_type": "code",
   "execution_count": 125,
   "id": "fede41ce-e4c0-427b-80da-67acc06cadb7",
   "metadata": {},
   "outputs": [],
   "source": [
    "def LU_dcomp(matrix):\n",
    "    \n",
    "    n = matrix.shape[0]\n",
    "    P = np.eye(n, dtype = float) \n",
    "    U = matrix.copy()\n",
    "    L = np.eye(n, dtype = float)\n",
    "\n",
    "    for i in range(n):\n",
    "        row_ind = np.argmax(U[i:, i]) + i   \n",
    "        if row_ind != i:\n",
    "            U[[i, row_ind], :] = U[[row_ind, i], :]\n",
    "            P[[i, row_ind], :] = P[[row_ind, i], :]\n",
    "            L[[i, row_ind], :i] = L[[row_ind, i], :i]\n",
    "            \n",
    "        for j in range(i+1, n):\n",
    "            z = U[j, i] / U[i, i]\n",
    "            L[j, i] = z\n",
    "            \n",
    "            for k in range(i, n):\n",
    "                U[j, k] = U[j, k] - z * U[i, k]\n",
    "    return L,U,P\n",
    "\n",
    "def back_sub(A, b):\n",
    "    n = len(b)\n",
    "    x = np.zeros(len(b), dtype = float)\n",
    "    for i in range(n - 1, -1, -1):\n",
    "        if A[i, i] == 0:\n",
    "            raise ValueError(\"Matrix is singular\")\n",
    "        x[i] = b[i]\n",
    "        for j in range(i+1, n):\n",
    "            x[i] -= A[i, j] * x[j]\n",
    "        x[i] = x[i] / A[i, i]\n",
    "    return x\n",
    "\n",
    "def fwd_elim(A, b):\n",
    "    n = len(b)\n",
    "    x = np.zeros(len(b), dtype = float)\n",
    "    \n",
    "    for i in range(n):\n",
    "        if A[i, i] == 0:\n",
    "            raise ValueError(\"Matrix is singular\")\n",
    "        x[i] = b[i]\n",
    "        for j in range(0, i):\n",
    "            x[i] -= A[i, j] * x[j]\n",
    "        x[i] = x[i] / A[i, i]\n",
    "    \n",
    "    return x"
   ]
  },
  {
   "cell_type": "code",
   "execution_count": 126,
   "id": "a89af06d-3364-4157-a032-c4d4e79a4f29",
   "metadata": {},
   "outputs": [],
   "source": [
    "def RQI(A, x0, tol, max_iter):\n",
    "    n = A.shape[0]\n",
    "    I = np.eye(n)\n",
    "    x = x0 / la.norm(x0)\n",
    "    sigma = x.T @ A @ x\n",
    "    \n",
    "    for k in range(max_iter):\n",
    "        L, U, P = LU_dcomp(A - sigma * I)\n",
    "        z = fwd_elim(L, P @ x)\n",
    "        y = back_sub(U, z)\n",
    "        x_new = y / la.norm(y)\n",
    "        \n",
    "        sigma_new = x_new.T @ A @ x_new\n",
    "\n",
    "        # Checking for convergence\n",
    "        if (la.norm(x_new - x) < tol):\n",
    "            count = k\n",
    "            break\n",
    "        x = x_new\n",
    "        sigma = sigma_new\n",
    "    \n",
    "    return sigma, x, count"
   ]
  },
  {
   "cell_type": "code",
   "execution_count": 127,
   "id": "febd062b-00c6-4436-9075-7e0d033d849f",
   "metadata": {},
   "outputs": [
    {
     "name": "stdout",
     "output_type": "stream",
     "text": [
      "-6.213349418004875\n",
      "[ 0.18297672 -0.44143747 -0.87843752]\n",
      "4\n",
      "[ 5.55111512e-15  7.10542736e-15 -2.66453526e-15]\n"
     ]
    }
   ],
   "source": [
    "evalue, evector, count = RQI(A, x0, 1.0e-10, 100)\n",
    "print(evalue)\n",
    "print(evector)\n",
    "print(count)\n",
    "print(A @ evector - evalue * evector)"
   ]
  },
  {
   "cell_type": "code",
   "execution_count": 128,
   "id": "50d27630-1449-4b0e-95b0-54534f84cc55",
   "metadata": {},
   "outputs": [
    {
     "name": "stdout",
     "output_type": "stream",
     "text": [
      "0.335556742666732\n",
      "[ 0.54682533 -0.74512799  0.38179358]\n",
      "4\n",
      "[1.14741550e-13 8.78186412e-14 6.77236045e-15]\n"
     ]
    }
   ],
   "source": [
    "evalue, evector, count = RQI(A, x1, 1.0e-10, 100)\n",
    "print(evalue)\n",
    "print(evector)\n",
    "print(count)\n",
    "print(A @ evector - evalue * evector)"
   ]
  },
  {
   "cell_type": "code",
   "execution_count": 129,
   "id": "49d06e2a-f0f8-4827-b158-6f2ace7e3cb9",
   "metadata": {},
   "outputs": [
    {
     "name": "stdout",
     "output_type": "stream",
     "text": [
      "2.8777926753380503\n",
      "[ 0.38557643  0.90479582 -0.18076322]\n",
      "4\n",
      "[0. 0. 0.]\n"
     ]
    }
   ],
   "source": [
    "evalue, evector, count = RQI(A, x2, 1.0e-10, 100)\n",
    "print(evalue)\n",
    "print(evector)\n",
    "print(count)\n",
    "print(A @ evector - evalue * evector)"
   ]
  },
  {
   "cell_type": "code",
   "execution_count": null,
   "id": "61e4dc12-c230-4114-84b5-b12ee58f4dad",
   "metadata": {},
   "outputs": [],
   "source": []
  }
 ],
 "metadata": {
  "kernelspec": {
   "display_name": "Python 3 (ipykernel)",
   "language": "python",
   "name": "python3"
  },
  "language_info": {
   "codemirror_mode": {
    "name": "ipython",
    "version": 3
   },
   "file_extension": ".py",
   "mimetype": "text/x-python",
   "name": "python",
   "nbconvert_exporter": "python",
   "pygments_lexer": "ipython3",
   "version": "3.10.12"
  }
 },
 "nbformat": 4,
 "nbformat_minor": 5
}
