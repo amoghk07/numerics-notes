{
 "cells": [
  {
   "cell_type": "code",
   "execution_count": null,
   "id": "116591ed-d857-493e-82a1-a8bc99e9e927",
   "metadata": {},
   "outputs": [],
   "source": [
    "import numpy as np\n",
    "import numpy.linalg as la\n",
    "\n",
    "A = np.array([[-2, 1], \n",
    "              [-1, 0],\n",
    "              [0, 0],\n",
    "              [1, 2]], dtype = float)\n",
    "b = np.array([[3], [4], [5], [6]], dtype = float)\n",
    "\n",
    "m, n = A.shape"
   ]
  },
  {
   "cell_type": "code",
   "execution_count": null,
   "id": "312d763a-5706-4a61-9af9-6b9d48b6ec0e",
   "metadata": {},
   "outputs": [],
   "source": [
    "U, s, V = la.svd(A)\n",
    "\n",
    "print(U) \n",
    "print(s) # This is the array containing the singular values and NOT the matrix Sigma\n",
    "print(V)\n",
    "\n",
    "S = np.zeros((m, n), dtype = float) \n",
    "for i in range(0, min(m,n)): # Creating the matrix sigma\n",
    "    S[i][i] = s[i]\n",
    "print(U @ S @ V)"
   ]
  },
  {
   "cell_type": "code",
   "execution_count": null,
   "id": "48d105e3-f03d-4022-abf9-fe16e95fd959",
   "metadata": {},
   "outputs": [],
   "source": [
    "# Condition number is k = largest singular value / smallest singular value\n",
    "k1 = s.max()/ s.min()\n",
    "k2 = la.cond(A)\n",
    "\n",
    "print(k1, k2)"
   ]
  },
  {
   "cell_type": "code",
   "execution_count": null,
   "id": "5bbfcd5d-1bec-4e22-81dd-6354f1a7333a",
   "metadata": {},
   "outputs": [],
   "source": [
    "# The 2-norm of a matrix is the largest singular value.\n",
    "norm1 = s.max()\n",
    "norm2 = la.norm(A, 2)\n",
    "print(norm1, norm2)"
   ]
  },
  {
   "cell_type": "code",
   "execution_count": null,
   "id": "5d41fd10-4695-47eb-8b31-98065e70a856",
   "metadata": {},
   "outputs": [],
   "source": [
    "U1 = U[:m, :n]\n",
    "S = np.diag(s)\n",
    "x = V @ la.inv(S) @ U1.T @ b\n",
    "print(x)"
   ]
  },
  {
   "cell_type": "code",
   "execution_count": null,
   "id": "dad9647d-110d-4ac4-9289-40a52afa01af",
   "metadata": {},
   "outputs": [],
   "source": [
    "N = A.T @ A\n",
    "bt = A.T @ b\n",
    "y = la.solve(N, bt)\n",
    "print(y)"
   ]
  }
 ],
 "metadata": {
  "kernelspec": {
   "display_name": "Python 3 (ipykernel)",
   "language": "python",
   "name": "python3"
  },
  "language_info": {
   "codemirror_mode": {
    "name": "ipython",
    "version": 3
   },
   "file_extension": ".py",
   "mimetype": "text/x-python",
   "name": "python",
   "nbconvert_exporter": "python",
   "pygments_lexer": "ipython3",
   "version": "3.10.12"
  }
 },
 "nbformat": 4,
 "nbformat_minor": 5
}
