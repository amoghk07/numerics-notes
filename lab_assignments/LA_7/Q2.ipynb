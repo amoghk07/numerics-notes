{
 "cells": [
  {
   "cell_type": "code",
   "execution_count": 8,
   "id": "1a623a67-b9e0-4c43-92da-fb5382ef5795",
   "metadata": {},
   "outputs": [],
   "source": [
    "import numpy as np\n",
    "\n",
    "def bisection_method(f, a, b, tol, max_iter):\n",
    "    count = 0\n",
    "    errors = []\n",
    "    rates = []\n",
    "    while ((count < max_iter) and (0.5 * (b - a) > tol)):\n",
    "        count += 1\n",
    "        m = a + (b - a) / 2 \n",
    "        if np.sign(f(a)) == np.sign(f(m)):\n",
    "            a = m\n",
    "        else:\n",
    "            b = m\n",
    "        m_new = a + (b - a) / 2\n",
    "        errors.append(abs(m - m_new))\n",
    "        \n",
    "    for i in range(1, len(errors) - 1):\n",
    "        r = np.log(errors[i+1] / errors[i]) / np.log(errors[i] / errors[i-1])\n",
    "        rates.append(r)\n",
    "        \n",
    "    return (a + b) / 2, count, rates\n",
    "\n",
    "def f(x):\n",
    "    return np.sin(10 * x) - x "
   ]
  },
  {
   "cell_type": "code",
   "execution_count": 9,
   "id": "06589dbd-a58f-4b22-aabd-f20aa91b2263",
   "metadata": {},
   "outputs": [
    {
     "name": "stdout",
     "output_type": "stream",
     "text": [
      "0.28523483276367195\n",
      "17\n",
      "[1.0, 0.9999999999999936, 0.9999999999999936, 1.0000000000000129, 1.0, 0.9999999999998975, 0.9999999999998975, 1.000000000000205, 1.0000000000016402, 0.9999999999983599, 1.0, 1.0000000000065605, 0.9999999999803182, 0.9999999999868787, 1.0000000000787275]\n"
     ]
    }
   ],
   "source": [
    "a = 0.2\n",
    "b = 0.4\n",
    "root, count, rates = bisection_method(f, a, b, 1.0e-6, 100)\n",
    "print(root)\n",
    "print(count)\n",
    "print(rates)"
   ]
  },
  {
   "cell_type": "code",
   "execution_count": 10,
   "id": "ee63206b-6a91-4932-b57d-c566ff41d7a2",
   "metadata": {},
   "outputs": [
    {
     "name": "stdout",
     "output_type": "stream",
     "text": [
      "0.7068168640136718\n",
      "17\n",
      "[0.9999999999999936, 1.0000000000000193, 1.0000000000000129, 1.0000000000000255, 0.9999999999999487, 0.99999999999959, 1.0000000000004101, 1.0, 0.9999999999983599, 1.0000000000049205, 1.0000000000032803, 1.0000000000065605, 0.9999999999868787, 1.0, 1.0000000001049698]\n"
     ]
    }
   ],
   "source": [
    "a = 0.6\n",
    "b = 0.8\n",
    "root, count, rates = bisection_method(f, a, b, 1.0e-6, 100)\n",
    "print(root)\n",
    "print(count)\n",
    "print(rates)"
   ]
  },
  {
   "cell_type": "code",
   "execution_count": 11,
   "id": "f9d69471-e5d5-4c7a-a2b9-8b97bcee7eb8",
   "metadata": {},
   "outputs": [
    {
     "name": "stdout",
     "output_type": "stream",
     "text": [
      "0.842321014404297\n",
      "17\n",
      "[0.9999999999999968, 1.0000000000000193, 1.0000000000000129, 1.0000000000000255, 0.9999999999999487, 1.0, 1.0000000000004101, 0.9999999999987699, 0.9999999999991799, 0.9999999999983599, 1.0000000000032803, 1.0, 0.9999999999737575, 1.0000000000787275, 1.000000000052485]\n"
     ]
    }
   ],
   "source": [
    "a = 0.8\n",
    "b = 1.0\n",
    "root, count, rates = bisection_method(f, a, b, 1.0e-6, 100)\n",
    "print(root)\n",
    "print(count)\n",
    "print(rates)"
   ]
  },
  {
   "cell_type": "code",
   "execution_count": null,
   "id": "1a0616cb-8cc0-4f3d-99a1-e938e52f61d3",
   "metadata": {},
   "outputs": [],
   "source": []
  }
 ],
 "metadata": {
  "kernelspec": {
   "display_name": "Python 3 (ipykernel)",
   "language": "python",
   "name": "python3"
  },
  "language_info": {
   "codemirror_mode": {
    "name": "ipython",
    "version": 3
   },
   "file_extension": ".py",
   "mimetype": "text/x-python",
   "name": "python",
   "nbconvert_exporter": "python",
   "pygments_lexer": "ipython3",
   "version": "3.10.12"
  }
 },
 "nbformat": 4,
 "nbformat_minor": 5
}
