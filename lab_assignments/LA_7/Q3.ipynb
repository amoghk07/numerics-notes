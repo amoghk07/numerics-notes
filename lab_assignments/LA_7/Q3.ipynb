{
 "cells": [
  {
   "cell_type": "code",
   "execution_count": 1,
   "id": "fc450906-38a6-42b9-81a7-92fecdf84bd5",
   "metadata": {},
   "outputs": [],
   "source": [
    "import numpy as np\n",
    "\n",
    "def fixed_point(f, x0, tol, max_iter):\n",
    "    count = 0\n",
    "    x = x0\n",
    "    x_new = f(x0)\n",
    "    errors = []\n",
    "    rates = []\n",
    "    while ((count < max_iter) and (abs(x_new - x) >= tol)):\n",
    "        count += 1\n",
    "        x = x_new\n",
    "        x_new = f(x)\n",
    "        errors.append(abs(x_new -x))\n",
    "        \n",
    "    for i in range(1, len(errors) - 1):\n",
    "        r_n = np.log(errors[i+1] / errors[i]) / np.log(errors[i] / errors[i-1])\n",
    "        rates.append(r_n) \n",
    "\n",
    "    return(x_new, count, rates)"
   ]
  },
  {
   "cell_type": "code",
   "execution_count": 4,
   "id": "3e023775-9e07-4c14-8ffa-4d9951a2bc25",
   "metadata": {},
   "outputs": [
    {
     "name": "stdout",
     "output_type": "stream",
     "text": [
      "-0.3637800892422325 8\n",
      "[5.748241512543102, 0.39456798921045255, 0.9985262542348919, 0.999855416868454, 0.9999857771317043, 0.9999986006080009]\n"
     ]
    }
   ],
   "source": [
    "def f(x):\n",
    "    return(0.5 * np.log( np.abs(np.cos(x)) / (1+np.cos(x))))\n",
    "\n",
    "root, count, rates = fixed_point(f, 3.0, 1.0e-7, 100)\n",
    "print(root, count)\n",
    "print(rates)"
   ]
  },
  {
   "cell_type": "code",
   "execution_count": 6,
   "id": "2a462f26-bb83-4d01-9c01-f6dd1a2733db",
   "metadata": {},
   "outputs": [
    {
     "name": "stdout",
     "output_type": "stream",
     "text": [
      "2.0000000866976726\n",
      "19\n",
      "[0.9755577016428801, 0.9877431315435449, 0.9938620534231661, 0.9969285756654062, 0.9984636659378856, 0.999231676355425, 0.9996157988805358, 0.999807889612631, 0.999903942312334, 0.9999519705502651, 0.9999759851800928, 0.9999879923570764, 0.9999939963692696, 0.9999969983694373, 0.9999984989422547, 0.9999992471589111, 0.9999996286592685]\n"
     ]
    }
   ],
   "source": [
    "def f(x):\n",
    "    return(3 - 2/x)\n",
    "\n",
    "root, count, rates = fixed_point(f, 2.1, 1.0e-7, 100)\n",
    "print(root)\n",
    "print(count)\n",
    "print(rates)"
   ]
  },
  {
   "cell_type": "code",
   "execution_count": null,
   "id": "89e46e37-894e-4445-8e49-d8cd2d15f1df",
   "metadata": {},
   "outputs": [],
   "source": []
  }
 ],
 "metadata": {
  "kernelspec": {
   "display_name": "Python 3 (ipykernel)",
   "language": "python",
   "name": "python3"
  },
  "language_info": {
   "codemirror_mode": {
    "name": "ipython",
    "version": 3
   },
   "file_extension": ".py",
   "mimetype": "text/x-python",
   "name": "python",
   "nbconvert_exporter": "python",
   "pygments_lexer": "ipython3",
   "version": "3.10.12"
  }
 },
 "nbformat": 4,
 "nbformat_minor": 5
}
