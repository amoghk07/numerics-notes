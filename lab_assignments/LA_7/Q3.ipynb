{
 "cells": [
  {
   "cell_type": "code",
   "execution_count": 4,
   "id": "fc450906-38a6-42b9-81a7-92fecdf84bd5",
   "metadata": {},
   "outputs": [],
   "source": [
    "import numpy as np\n",
    "\n",
    "def fixed_point(f, x0, tol, max_iter):\n",
    "    count = 0\n",
    "    x = x0\n",
    "    x_new = f(x0)\n",
    "    errors = []\n",
    "    rates = []\n",
    "    while ((count < max_iter) and (abs(x_new - x) >= tol)):\n",
    "        count += 1\n",
    "        x = x_new\n",
    "        x_new = f(x)\n",
    "        errors.append(abs(x_new -x))\n",
    "        \n",
    "    for i in range(1, len(errors) - 1):\n",
    "        r_n = np.log(errors[i+1] / errors[i]) / np.log(errors[i] / errors[i-1])\n",
    "        rates.append(r_n) \n",
    "\n",
    "    return(x_new, count, rates)"
   ]
  },
  {
   "cell_type": "code",
   "execution_count": 5,
   "id": "3e023775-9e07-4c14-8ffa-4d9951a2bc25",
   "metadata": {},
   "outputs": [
    {
     "ename": "OverflowError",
     "evalue": "(34, 'Numerical result out of range')",
     "output_type": "error",
     "traceback": [
      "\u001b[0;31m---------------------------------------------------------------------------\u001b[0m",
      "\u001b[0;31mOverflowError\u001b[0m                             Traceback (most recent call last)",
      "Cell \u001b[0;32mIn[5], line 4\u001b[0m\n\u001b[1;32m      1\u001b[0m \u001b[38;5;28;01mdef\u001b[39;00m\u001b[38;5;250m \u001b[39m\u001b[38;5;21mf\u001b[39m(x):\n\u001b[1;32m      2\u001b[0m     \u001b[38;5;28;01mreturn\u001b[39;00m((x\u001b[38;5;241m*\u001b[39m\u001b[38;5;241m*\u001b[39m\u001b[38;5;241m2\u001b[39m \u001b[38;5;241m+\u001b[39m \u001b[38;5;241m2\u001b[39m )\u001b[38;5;241m/\u001b[39m \u001b[38;5;241m3\u001b[39m)\n\u001b[0;32m----> 4\u001b[0m root, count, rates \u001b[38;5;241m=\u001b[39m \u001b[43mfixed_point\u001b[49m\u001b[43m(\u001b[49m\u001b[43mf\u001b[49m\u001b[43m,\u001b[49m\u001b[43m \u001b[49m\u001b[38;5;241;43m2.1\u001b[39;49m\u001b[43m,\u001b[49m\u001b[43m \u001b[49m\u001b[38;5;241;43m1.0e-7\u001b[39;49m\u001b[43m,\u001b[49m\u001b[43m \u001b[49m\u001b[38;5;241;43m100\u001b[39;49m\u001b[43m)\u001b[49m\n\u001b[1;32m      5\u001b[0m \u001b[38;5;28mprint\u001b[39m(root, count)\n\u001b[1;32m      6\u001b[0m \u001b[38;5;28mprint\u001b[39m(rates)\n",
      "Cell \u001b[0;32mIn[4], line 12\u001b[0m, in \u001b[0;36mfixed_point\u001b[0;34m(f, x0, tol, max_iter)\u001b[0m\n\u001b[1;32m     10\u001b[0m     count \u001b[38;5;241m+\u001b[39m\u001b[38;5;241m=\u001b[39m \u001b[38;5;241m1\u001b[39m\n\u001b[1;32m     11\u001b[0m     x \u001b[38;5;241m=\u001b[39m x_new\n\u001b[0;32m---> 12\u001b[0m     x_new \u001b[38;5;241m=\u001b[39m \u001b[43mf\u001b[49m\u001b[43m(\u001b[49m\u001b[43mx\u001b[49m\u001b[43m)\u001b[49m\n\u001b[1;32m     13\u001b[0m     errors\u001b[38;5;241m.\u001b[39mappend(\u001b[38;5;28mabs\u001b[39m(x_new \u001b[38;5;241m-\u001b[39mx))\n\u001b[1;32m     15\u001b[0m \u001b[38;5;28;01mfor\u001b[39;00m i \u001b[38;5;129;01min\u001b[39;00m \u001b[38;5;28mrange\u001b[39m(\u001b[38;5;241m1\u001b[39m, \u001b[38;5;28mlen\u001b[39m(errors) \u001b[38;5;241m-\u001b[39m \u001b[38;5;241m1\u001b[39m):\n",
      "Cell \u001b[0;32mIn[5], line 2\u001b[0m, in \u001b[0;36mf\u001b[0;34m(x)\u001b[0m\n\u001b[1;32m      1\u001b[0m \u001b[38;5;28;01mdef\u001b[39;00m\u001b[38;5;250m \u001b[39m\u001b[38;5;21mf\u001b[39m(x):\n\u001b[0;32m----> 2\u001b[0m     \u001b[38;5;28;01mreturn\u001b[39;00m((\u001b[43mx\u001b[49m\u001b[38;5;241;43m*\u001b[39;49m\u001b[38;5;241;43m*\u001b[39;49m\u001b[38;5;241;43m2\u001b[39;49m \u001b[38;5;241m+\u001b[39m \u001b[38;5;241m2\u001b[39m )\u001b[38;5;241m/\u001b[39m \u001b[38;5;241m3\u001b[39m)\n",
      "\u001b[0;31mOverflowError\u001b[0m: (34, 'Numerical result out of range')"
     ]
    }
   ],
   "source": [
    "def f(x):\n",
    "    return((x**2 + 2 )/ 3)\n",
    "\n",
    "root, count, rates = fixed_point(f, 2.1, 1.0e-7, 100)\n",
    "print(root, count)\n",
    "print(rates)"
   ]
  },
  {
   "cell_type": "code",
   "execution_count": 6,
   "id": "2a462f26-bb83-4d01-9c01-f6dd1a2733db",
   "metadata": {},
   "outputs": [
    {
     "name": "stdout",
     "output_type": "stream",
     "text": [
      "2.0000000866976726\n",
      "19\n",
      "[0.9755577016428801, 0.9877431315435449, 0.9938620534231661, 0.9969285756654062, 0.9984636659378856, 0.999231676355425, 0.9996157988805358, 0.999807889612631, 0.999903942312334, 0.9999519705502651, 0.9999759851800928, 0.9999879923570764, 0.9999939963692696, 0.9999969983694373, 0.9999984989422547, 0.9999992471589111, 0.9999996286592685]\n"
     ]
    }
   ],
   "source": [
    "def f(x):\n",
    "    return(3 - 2/x)\n",
    "\n",
    "root, count, rates = fixed_point(f, 2.1, 1.0e-7, 100)\n",
    "print(root)\n",
    "print(count)\n",
    "print(rates)"
   ]
  },
  {
   "cell_type": "code",
   "execution_count": null,
   "id": "89e46e37-894e-4445-8e49-d8cd2d15f1df",
   "metadata": {},
   "outputs": [],
   "source": []
  }
 ],
 "metadata": {
  "kernelspec": {
   "display_name": "Python 3 (ipykernel)",
   "language": "python",
   "name": "python3"
  },
  "language_info": {
   "codemirror_mode": {
    "name": "ipython",
    "version": 3
   },
   "file_extension": ".py",
   "mimetype": "text/x-python",
   "name": "python",
   "nbconvert_exporter": "python",
   "pygments_lexer": "ipython3",
   "version": "3.10.12"
  }
 },
 "nbformat": 4,
 "nbformat_minor": 5
}
