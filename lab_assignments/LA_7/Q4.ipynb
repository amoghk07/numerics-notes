{
 "cells": [
  {
   "cell_type": "code",
   "execution_count": 26,
   "id": "3821b06a-c45b-42d9-a66b-b7522d8f4fcb",
   "metadata": {},
   "outputs": [],
   "source": [
    "import numpy as np\n",
    "\n",
    "def newton_method(f, der_f, x0, tol, max_iter):\n",
    "    x = x0\n",
    "    x_new = x - f(x) / der_f(x)\n",
    "    count = 0\n",
    "    errors = []\n",
    "    rates = []\n",
    "    while ((count < max_iter) and (abs(x_new - x) >= tol)):\n",
    "        count += 1\n",
    "        x = x_new\n",
    "        x_new = x - f(x) / der_f(x)\n",
    "        errors.append(abs(x_new - x))\n",
    "        \n",
    "    for i in range(1, len(errors) - 1):\n",
    "        r = np.log(errors[i+1] / errors[i]) / np.log(errors[i] / errors[i-1])\n",
    "        rates.append(r)\n",
    "        \n",
    "    return x_new, count, rates"
   ]
  },
  {
   "cell_type": "code",
   "execution_count": 27,
   "id": "08878f80-60da-4dda-9c92-9e29b533fa6d",
   "metadata": {},
   "outputs": [
    {
     "name": "stdout",
     "output_type": "stream",
     "text": [
      "1.0\n",
      "4\n",
      "[1.9990079465880823, 2.0000007336851593]\n"
     ]
    }
   ],
   "source": [
    "def f1(x):\n",
    "    return x**2 - 1\n",
    "\n",
    "def der_f1(x):\n",
    "    return 2 * x\n",
    "\n",
    "root, count, rates = newton_method(f1, der_f1, 1.5, 1.0e-6, 100)\n",
    "print(root)\n",
    "print(count)\n",
    "print(rates)"
   ]
  },
  {
   "cell_type": "code",
   "execution_count": 28,
   "id": "be137e12-2dd2-4dbb-9ad0-eef7fd9f6620",
   "metadata": {},
   "outputs": [
    {
     "name": "stdout",
     "output_type": "stream",
     "text": [
      "1.0000009536743164\n",
      "18\n",
      "[1.0, 1.0, 1.0, 1.0, 1.0, 1.0, 1.0, 1.0, 1.0, 1.0, 1.0, 1.0, 1.0, 1.0, 1.0, 1.0]\n"
     ]
    }
   ],
   "source": [
    "def f2(x):\n",
    "    return x**2 - 2*x + 1\n",
    "\n",
    "def der_f2(x):\n",
    "    return 2 * x - 2\n",
    "\n",
    "root, count, rates = newton_method(f2, der_f2, 1.5, 1.0e-6, 100)\n",
    "print(root)\n",
    "print(count)\n",
    "print(rates)"
   ]
  },
  {
   "cell_type": "code",
   "execution_count": null,
   "id": "d7d90ab0-b99e-453e-9847-d9a1f5bf2303",
   "metadata": {},
   "outputs": [],
   "source": []
  }
 ],
 "metadata": {
  "kernelspec": {
   "display_name": "Python 3 (ipykernel)",
   "language": "python",
   "name": "python3"
  },
  "language_info": {
   "codemirror_mode": {
    "name": "ipython",
    "version": 3
   },
   "file_extension": ".py",
   "mimetype": "text/x-python",
   "name": "python",
   "nbconvert_exporter": "python",
   "pygments_lexer": "ipython3",
   "version": "3.10.12"
  }
 },
 "nbformat": 4,
 "nbformat_minor": 5
}
