{
 "cells": [
  {
   "cell_type": "code",
   "execution_count": null,
   "id": "edf1e358-5840-4cc5-a9de-4707ce8114c9",
   "metadata": {},
   "outputs": [],
   "source": [
    "import numpy as np\n",
    "import numpy.linalg as la\n",
    "\n",
    "def fixed_point(g, x0, tol, max_iter):\n",
    "    x = x0\n",
    "    x_new = g(x0)\n",
    "    count = 0\n",
    "    errors = []\n",
    "    rates = []\n",
    "    while ((count < max_iter) and (la.norm(x_new - x, 1) >= tol)):\n",
    "        count += 1\n",
    "        x = x_new\n",
    "        x_new = g(x)\n",
    "        errors.append(la.norm(x_new - x, 1))\n",
    "        \n",
    "    for i in range(1, len(errors) - 1):\n",
    "        r = np.log(errors[i+1] / errors[i]) / np.log(errors[i] / errors[i-1])\n",
    "        rates.append(r)\n",
    "        \n",
    "    return x_new, count, rates"
   ]
  },
  {
   "cell_type": "code",
   "execution_count": null,
   "id": "ddf1a1ad-117f-4424-acf3-45654ea02146",
   "metadata": {},
   "outputs": [],
   "source": [
    "def g(x):\n",
    "    return np.array([x[1] ** 2 + 0.25, x[0] ** 2 + 0.25], dtype = float)\n",
    "\n",
    "x0 = np.array([0.495, 0.495])\n",
    "root, count, rate = fixed_point(g, x0, 1.0e-7, 100)\n",
    "print(\"root:\", root)\n",
    "print(\"count:\", count)\n",
    "print(\"rate:\", rate)"
   ]
  },
  {
   "cell_type": "code",
   "execution_count": null,
   "id": "b5be0eef-a2be-4e49-92cb-0255a5e3b38e",
   "metadata": {},
   "outputs": [],
   "source": [
    "def g(x):\n",
    "    return np.array([np.sqrt(x[1] - 0.25), np.sqrt(x[0] - 0.25)])\n",
    "root, count, rate = fixed_point(g, x0, 1.0e-7, 100)\n",
    "print(\"root:\", root)\n",
    "print(\"count:\", count)\n",
    "print(\"rate:\", rate)"
   ]
  },
  {
   "cell_type": "code",
   "execution_count": null,
   "id": "6fcf2c05-bb7e-4ab8-84e4-94b265288c3e",
   "metadata": {},
   "outputs": [],
   "source": [
    "def g(x):\n",
    "    return np.array([np.sin(x[1]), np.cos(x[0])])\n",
    "x0 = np.array([0.69, 0.75])\n",
    "root, count, rate = fixed_point(g, x0, 1.0e-8, 100)\n",
    "print(\"root:\", root)\n",
    "print(\"count:\", count)\n",
    "print(\"rate:\", rate)"
   ]
  },
  {
   "cell_type": "code",
   "execution_count": null,
   "id": "8abca25c-b7f0-4357-a08e-31c308bd9064",
   "metadata": {},
   "outputs": [],
   "source": []
  }
 ],
 "metadata": {
  "kernelspec": {
   "display_name": "Python 3 (ipykernel)",
   "language": "python",
   "name": "python3"
  },
  "language_info": {
   "codemirror_mode": {
    "name": "ipython",
    "version": 3
   },
   "file_extension": ".py",
   "mimetype": "text/x-python",
   "name": "python",
   "nbconvert_exporter": "python",
   "pygments_lexer": "ipython3",
   "version": "3.10.12"
  }
 },
 "nbformat": 4,
 "nbformat_minor": 5
}
