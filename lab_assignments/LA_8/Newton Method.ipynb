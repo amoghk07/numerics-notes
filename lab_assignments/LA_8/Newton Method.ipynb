{
 "cells": [
  {
   "cell_type": "code",
   "execution_count": 3,
   "id": "9312738f-d4b9-496c-be7c-d7493b1918d2",
   "metadata": {},
   "outputs": [
    {
     "name": "stdout",
     "output_type": "stream",
     "text": [
      "root: [0.49999999 0.49999999]\n",
      "count: 23\n",
      "rate: [0.9999999999999903, 1.0000000000002929, 0.9999999999970038, 1.00000000000492, 1.0000000000290563, 0.999999999931382, 0.9999999997941279, 0.9999999989883596, 0.9999999995900027, 1.0000000302632683, 0.9999999900142692, 1.0000003059496128, 0.9999968869869017, 1.0000051720442409, 1.0000305649182477, 0.999928311805727, 0.9997849545019177, 0.998942387741834, 0.9995752123199036, 1.0321923119417633, 0.9896161112244861]\n"
     ]
    }
   ],
   "source": [
    "import numpy as np\n",
    "import numpy.linalg as la\n",
    "from scipy.linalg import solve\n",
    "\n",
    "def newton_method(f, J, x0, tol, max_iter):\n",
    "    x = x0\n",
    "    s = solve(J(x), - f(x))\n",
    "    x_new = x + s\n",
    "    count = 0\n",
    "    errors = []\n",
    "    rates = []\n",
    "    while ((count < max_iter) and (la.norm(s) >= tol)):\n",
    "        count += 1\n",
    "        x = x_new\n",
    "        s = solve(J(x), - f(x))\n",
    "        x_new = x + s\n",
    "        errors.append(la.norm(s))\n",
    "        \n",
    "    for i in range(1, len(errors) - 1):\n",
    "        r = np.log(errors[i+1] / errors[i]) / np.log(errors[i] / errors[i-1])\n",
    "        rates.append(r)\n",
    "        \n",
    "    return x_new, count, rates\n",
    "\n",
    "def f(x):\n",
    "    return np.array([x[0]**2 - x[1] + 0.25, -x[0] + x[1] ** 2 + 0.25])\n",
    "\n",
    "def J(x):\n",
    "    return np.array([[2 * x[0], -1], \n",
    "                     [-1, 2 * x[1]]])\n",
    "\n",
    "x0 = np.array([0.4, 0.4])\n",
    "root, count, rate = newton_method(f, J, x0, 1.0e-8, 100)\n",
    "print(\"root:\", root)\n",
    "print(\"count:\", count)\n",
    "print(\"rate:\", rate)"
   ]
  },
  {
   "cell_type": "code",
   "execution_count": 4,
   "id": "19d663cb-6257-4b05-a3da-70bc0561db4c",
   "metadata": {},
   "outputs": [
    {
     "name": "stdout",
     "output_type": "stream",
     "text": [
      "root: [7.75830564e-17 1.00000000e+00]\n",
      "count: 5\n",
      "rate: [1.988962281131691, 1.999930648024308, 1.9616058278230775]\n"
     ]
    }
   ],
   "source": [
    "def f(x):\n",
    "    return np.array([x[0] + 2 * x[1] - 2, x[0] ** 2 + 4 * x[1] ** 2 - 4], dtype = float)\n",
    "\n",
    "def J(x):\n",
    "    return np.array([[1, 2],\n",
    "                     [2 * x[0], 8 * x[1]]], dtype = float)\n",
    "\n",
    "x0 = np.array([0.5, 1.5])\n",
    "root, count, rate = newton_method(f, J, x0, 1.0e-8, 100)\n",
    "print(\"root:\", root)\n",
    "print(\"count:\", count)\n",
    "print(\"rate:\", rate)"
   ]
  },
  {
   "cell_type": "code",
   "execution_count": null,
   "id": "f546d353-66d9-4dc1-aa15-8b5d80985a40",
   "metadata": {},
   "outputs": [],
   "source": []
  }
 ],
 "metadata": {
  "kernelspec": {
   "display_name": "Python 3 (ipykernel)",
   "language": "python",
   "name": "python3"
  },
  "language_info": {
   "codemirror_mode": {
    "name": "ipython",
    "version": 3
   },
   "file_extension": ".py",
   "mimetype": "text/x-python",
   "name": "python",
   "nbconvert_exporter": "python",
   "pygments_lexer": "ipython3",
   "version": "3.10.12"
  }
 },
 "nbformat": 4,
 "nbformat_minor": 5
}
