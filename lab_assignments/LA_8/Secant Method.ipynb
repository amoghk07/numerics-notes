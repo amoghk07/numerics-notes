{
 "cells": [
  {
   "cell_type": "code",
   "execution_count": 19,
   "id": "80214b87-21ba-492a-a513-30ed8eba8147",
   "metadata": {},
   "outputs": [],
   "source": [
    "import numpy as np\n",
    "\n",
    "def secant_method(f, y0, y1, tol, max_iter):\n",
    "    x0 = y0\n",
    "    x1 = y1\n",
    "    x_new = x1 - f(x1) * ((x1 - x0) / (f(x1) - f(x0)))\n",
    "    count = 0\n",
    "    errors = []\n",
    "    rates = []\n",
    "    while ((count < max_iter) and (abs(x_new - x1) >= tol)):\n",
    "        count += 1\n",
    "        x0 = x1\n",
    "        x1 = x_new\n",
    "        x_new = x1 - f(x1) * ((x1 - x0) / (f(x1) - f(x0)))\n",
    "        errors.append(abs(x_new - x1))\n",
    "        \n",
    "    for i in range(1, len(errors) - 1):\n",
    "        r = np.log(errors[i+1] / errors[i]) / np.log(errors[i] / errors[i-1])\n",
    "        rates.append(r)\n",
    "        \n",
    "    return x_new, count, rates"
   ]
  },
  {
   "cell_type": "code",
   "execution_count": 20,
   "id": "59f6e42e-e5cc-4362-a6aa-addcc8f9fe9a",
   "metadata": {},
   "outputs": [],
   "source": [
    "def f(x):\n",
    "    return x ** 2 - 4 * np.sin(x)"
   ]
  },
  {
   "cell_type": "code",
   "execution_count": 21,
   "id": "9d24144a-3602-4410-882d-c2363ea55648",
   "metadata": {},
   "outputs": [
    {
     "name": "stdout",
     "output_type": "stream",
     "text": [
      "1.9337537628270214\n",
      "8\n",
      "[-0.9077660236907797, 2.7852462453769053, 1.0320952590453207, 1.8306868426449647, 1.5894078308706012, 1.6253184434602512]\n"
     ]
    }
   ],
   "source": [
    "y0 = 1\n",
    "y1 = 4\n",
    "root, count, rates = secant_method(f, y0, y1, 1.0e-7, 100)\n",
    "print(root)\n",
    "print(count)\n",
    "print(rates)"
   ]
  },
  {
   "cell_type": "code",
   "execution_count": 23,
   "id": "8906d136-7685-4397-aec7-1552c996bfea",
   "metadata": {},
   "outputs": [
    {
     "name": "stdout",
     "output_type": "stream",
     "text": [
      "4.292878131393e-15\n",
      "6\n",
      "[4.364990893194598, 1.028209652362641, 1.8518202773631127, 1.5555219618014062]\n"
     ]
    }
   ],
   "source": [
    "y0 = -1\n",
    "y1 = 1\n",
    "root, count, rates = secant_method(f, y0, y1, 1.0e-7, 100)\n",
    "print(root)\n",
    "print(count)\n",
    "print(rates)"
   ]
  },
  {
   "cell_type": "code",
   "execution_count": null,
   "id": "d4e1d253-fb98-4c12-a49e-ebf1aa7700ff",
   "metadata": {},
   "outputs": [],
   "source": []
  }
 ],
 "metadata": {
  "kernelspec": {
   "display_name": "Python 3 (ipykernel)",
   "language": "python",
   "name": "python3"
  },
  "language_info": {
   "codemirror_mode": {
    "name": "ipython",
    "version": 3
   },
   "file_extension": ".py",
   "mimetype": "text/x-python",
   "name": "python",
   "nbconvert_exporter": "python",
   "pygments_lexer": "ipython3",
   "version": "3.10.12"
  }
 },
 "nbformat": 4,
 "nbformat_minor": 5
}
