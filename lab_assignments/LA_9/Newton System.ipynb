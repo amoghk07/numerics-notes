{
 "cells": [
  {
   "cell_type": "code",
   "execution_count": 3,
   "id": "bdd0d1ad-c3ea-4be9-ba83-841156ac6476",
   "metadata": {},
   "outputs": [],
   "source": [
    "import numpy as np\n",
    "import numpy.linalg as la\n",
    "from scipy.linalg import solve\n",
    "\n",
    "def newton_method(df, Hf, x0, tol, max_iter):\n",
    "    x = x0\n",
    "    s = solve(Hf(x), - df(x))\n",
    "    x_new = x + s\n",
    "    count = 0\n",
    "    while ((count < max_iter) and (la.norm(s) >= tol)):\n",
    "        count += 1\n",
    "        x = x_new\n",
    "        s = solve(Hf(x), - df(x))\n",
    "        x_new = x + s\n",
    "        \n",
    "    return x_new, count"
   ]
  },
  {
   "cell_type": "code",
   "execution_count": 4,
   "id": "c61b476f-83f9-41dc-bc5e-b71aab851bbd",
   "metadata": {},
   "outputs": [
    {
     "name": "stdout",
     "output_type": "stream",
     "text": [
      "[0. 0.]\n",
      "1\n"
     ]
    }
   ],
   "source": [
    "def f(x):\n",
    "    return(0.5 * x[0] * x[0] + 2.5 * x[1] * x[1])\n",
    "\n",
    "def df(x):\n",
    "    return(np.array([x[0], 5 * x[1]]))\n",
    "\n",
    "def Hf(x):\n",
    "    return(np.array([[1, 0],\n",
    "                     [0, 5]]))\n",
    "\n",
    "x0 = np.array([5, 1])\n",
    "\n",
    "minima, count = newton_method(df, Hf, x0, 1.0e-7, 100)\n",
    "print(minima)\n",
    "print(count)"
   ]
  },
  {
   "cell_type": "code",
   "execution_count": 12,
   "id": "33e4626d-207b-4fb0-8708-fb0ac529d3dd",
   "metadata": {},
   "outputs": [
    {
     "name": "stdout",
     "output_type": "stream",
     "text": [
      "[1. 1.]\n",
      "5\n"
     ]
    }
   ],
   "source": [
    "def f(x):\n",
    "    return(100 * (x[1] - x[0] * x[0]) ** 2 + (1 - x[0]) ** 2)\n",
    "\n",
    "def df(x):\n",
    "    return(np.array([-400 * x[0] * (x[1] - x[0] * x[0]) - 2 * (1 - x[0]), 200 * (x[1] - x[0] * x[0])]))\n",
    "\n",
    "def Hf(x):\n",
    "    return(np.array([[-400 * (x[1] - x[0] * x[0]) + 800 * x[0] * x[0] + 2, -400 * x[0]],\n",
    "                     [-400 * x[0], 200]]))\n",
    "\n",
    "x0 = np.array([5, 1])\n",
    "\n",
    "minima, count = newton_method(df, Hf, x0, 1.0e-7, 100)\n",
    "print(minima)\n",
    "print(count)"
   ]
  },
  {
   "cell_type": "code",
   "execution_count": null,
   "id": "c6770910-05c1-464b-ad43-9e7794a58f5d",
   "metadata": {},
   "outputs": [],
   "source": []
  }
 ],
 "metadata": {
  "kernelspec": {
   "display_name": "Python 3 (ipykernel)",
   "language": "python",
   "name": "python3"
  },
  "language_info": {
   "codemirror_mode": {
    "name": "ipython",
    "version": 3
   },
   "file_extension": ".py",
   "mimetype": "text/x-python",
   "name": "python",
   "nbconvert_exporter": "python",
   "pygments_lexer": "ipython3",
   "version": "3.10.12"
  }
 },
 "nbformat": 4,
 "nbformat_minor": 5
}
