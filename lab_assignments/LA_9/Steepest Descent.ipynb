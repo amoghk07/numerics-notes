{
 "cells": [
  {
   "cell_type": "code",
   "execution_count": 77,
   "id": "c4b9541f-986c-494f-9488-fe58f135c57a",
   "metadata": {},
   "outputs": [],
   "source": [
    "import numpy as np\n",
    "from scipy.optimize import minimize_scalar\n",
    "\n",
    "def step_desc(f, df, x0, tol, max_iter):\n",
    "    x = x0\n",
    "    s = -df(x)\n",
    "    def phi(alpha):\n",
    "            return f(x + alpha * s)\n",
    "    result = minimize_scalar(phi, bounds=(0, 1), method='bounded')\n",
    "    print(result)\n",
    "    alpha = result.x\n",
    "    x_new = x - alpha * df(x)\n",
    "    count = 0\n",
    "    while ((count < max_iter) and (la.norm(x_new - x) >= tol)):\n",
    "        count += 1\n",
    "        x = x_new\n",
    "        s = -df(x)\n",
    "        result = minimize_scalar(phi, bounds=(0, 1), method='bounded')\n",
    "        alpha = result.x\n",
    "        x_new = x - alpha * df(x)\n",
    "    return x_new, count"
   ]
  },
  {
   "cell_type": "code",
   "execution_count": 78,
   "id": "a78ae328-7fa3-4e87-9c01-1528a4a3842a",
   "metadata": {},
   "outputs": [
    {
     "name": "stdout",
     "output_type": "stream",
     "text": [
      " message: Solution found.\n",
      " success: True\n",
      "  status: 0\n",
      "     fun: 6.666666666666666\n",
      "       x: 0.33333333333333337\n",
      "     nit: 6\n",
      "    nfev: 6\n",
      "[1.35986082e-10 2.71972164e-11]\n",
      "59\n",
      "[1.35986082e-10 1.35986082e-10]\n"
     ]
    }
   ],
   "source": [
    "def f(x):\n",
    "    return(0.5 * x[0] * x[0] + 2.5 * x[1] * x[1])\n",
    "\n",
    "def df(x):\n",
    "    return(np.array([x[0], 5 * x[1]]))\n",
    "\n",
    "x0 = np.array([5, 1])\n",
    "\n",
    "minima, count = step_desc(f, df, x0, 1.0e-10, 1000)\n",
    "print(minima)\n",
    "print(count)\n",
    "print(df(minima))"
   ]
  },
  {
   "cell_type": "code",
   "execution_count": 79,
   "id": "6bd099e2-82b4-43ec-a9dc-16fa45f2896d",
   "metadata": {},
   "outputs": [
    {
     "name": "stdout",
     "output_type": "stream",
     "text": [
      " message: Solution found.\n",
      " success: True\n",
      "  status: 0\n",
      "     fun: 5.540734567292223\n",
      "       x: 0.001395452915782924\n",
      "     nit: 35\n",
      "    nfev: 35\n",
      "[1.00000002 1.00000004]\n",
      "1594\n",
      "[1.02973371e-08 1.38458134e-08]\n"
     ]
    }
   ],
   "source": [
    "def f(x):\n",
    "    return(100 * (x[1] - x[0] * x[0]) ** 2 + (1 - x[0]) ** 2)\n",
    "\n",
    "def df(x):\n",
    "    return(np.array([-400 * x[0] * (x[1] - x[0] * x[0]) - 2 * (1 - x[0]), 200 * (x[1] - x[0] * x[0])]))\n",
    "\n",
    "x0 = np.array([2, 1])\n",
    "\n",
    "minima, count = step_desc(f, df, x0, 1.0e-10, 10000)\n",
    "print(minima)\n",
    "print(count)\n",
    "print(df(minima))"
   ]
  },
  {
   "cell_type": "code",
   "execution_count": null,
   "id": "882ba789-2822-489d-ae83-9c62ed6d552c",
   "metadata": {},
   "outputs": [],
   "source": []
  },
  {
   "cell_type": "code",
   "execution_count": null,
   "id": "f0725c1e-ec03-46b1-b646-28e14b034e54",
   "metadata": {},
   "outputs": [],
   "source": []
  }
 ],
 "metadata": {
  "kernelspec": {
   "display_name": "Python 3 (ipykernel)",
   "language": "python",
   "name": "python3"
  },
  "language_info": {
   "codemirror_mode": {
    "name": "ipython",
    "version": 3
   },
   "file_extension": ".py",
   "mimetype": "text/x-python",
   "name": "python",
   "nbconvert_exporter": "python",
   "pygments_lexer": "ipython3",
   "version": "3.10.12"
  }
 },
 "nbformat": 4,
 "nbformat_minor": 5
}
