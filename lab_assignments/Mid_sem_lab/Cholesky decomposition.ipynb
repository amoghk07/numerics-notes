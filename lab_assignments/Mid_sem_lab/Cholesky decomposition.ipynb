{
 "cells": [
  {
   "cell_type": "code",
   "execution_count": 1,
   "id": "ee0e92c3-7734-4077-96d6-825af7bff11b",
   "metadata": {},
   "outputs": [
    {
     "name": "stdout",
     "output_type": "stream",
     "text": [
      "[[ 2.  0.  0.]\n",
      " [ 6.  1.  0.]\n",
      " [-8.  5.  3.]]\n"
     ]
    }
   ],
   "source": [
    "import numpy as np\n",
    "import numpy.linalg as la\n",
    "\n",
    "A = np.array([[4, 12, -16],\n",
    "              [12, 37, -43],\n",
    "              [-16, -43, 98]], dtype = float)\n",
    "\n",
    "def cholesky(M):\n",
    "    n = M.shape[0]\n",
    "    L = np.zeros((n,n), dtype = float)\n",
    "\n",
    "    for i in range(n):\n",
    "        for j in range(i+1):\n",
    "            if i == j:\n",
    "                s = 0\n",
    "                for k in range(i):\n",
    "                    s += L[j, k] ** 2 \n",
    "                L[i, j] = np.sqrt(M[i, j] - s) \n",
    "            elif i>j:\n",
    "                s = 0\n",
    "                for k in range(i):\n",
    "                    s += L[i,k] * L[j,k]\n",
    "                L[i, j] = (M[i, j] - s) / L[j, j]\n",
    "    return L\n",
    "\n",
    "L = cholesky(A)\n",
    "print(L)"
   ]
  },
  {
   "cell_type": "code",
   "execution_count": 2,
   "id": "36d46ffd-abfe-408c-b6c9-7951070d6f89",
   "metadata": {},
   "outputs": [
    {
     "name": "stdout",
     "output_type": "stream",
     "text": [
      "[[  4.  12. -16.]\n",
      " [ 12.  37. -43.]\n",
      " [-16. -43.  98.]]\n"
     ]
    }
   ],
   "source": [
    "print(L @ L.T)"
   ]
  },
  {
   "cell_type": "code",
   "execution_count": null,
   "id": "a71146b3-1df9-492f-8228-c6c6cc1da9fa",
   "metadata": {},
   "outputs": [],
   "source": []
  }
 ],
 "metadata": {
  "kernelspec": {
   "display_name": "Python 3 (ipykernel)",
   "language": "python",
   "name": "python3"
  },
  "language_info": {
   "codemirror_mode": {
    "name": "ipython",
    "version": 3
   },
   "file_extension": ".py",
   "mimetype": "text/x-python",
   "name": "python",
   "nbconvert_exporter": "python",
   "pygments_lexer": "ipython3",
   "version": "3.10.12"
  }
 },
 "nbformat": 4,
 "nbformat_minor": 5
}
