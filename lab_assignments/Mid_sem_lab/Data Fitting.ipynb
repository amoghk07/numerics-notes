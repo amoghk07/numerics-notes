{
 "cells": [
  {
   "cell_type": "code",
   "execution_count": 23,
   "id": "9f887f30-4edd-4807-a794-1d3f98de3f97",
   "metadata": {},
   "outputs": [
    {
     "name": "stdout",
     "output_type": "stream",
     "text": [
      "[ 2.41468531  2.41738928 -0.2009324 ]\n"
     ]
    }
   ],
   "source": [
    "import numpy as np\n",
    "import numpy.linalg as la\n",
    "import matplotlib.pyplot as plt\n",
    "\n",
    "x = np.arange(0, 5.5, 0.5)\n",
    "y = np.array([2.9, 2.7, 4.8, 5.3, 7.1, 7.6, 7.7, 7.6, 9.4, 9.0, 9.6], dtype = float)\n",
    "\n",
    "A = np.vstack([np.ones_like(x), x, x ** 2]).T\n",
    "\n",
    "N = np.dot(np.transpose(A), A)\n",
    "z = np.dot(np.transpose(A), y)\n",
    "\n",
    "w = la.solve(N, z)\n",
    "print(w)"
   ]
  },
  {
   "cell_type": "code",
   "execution_count": 26,
   "id": "900413f7-d97e-403f-90f2-56438cb7af9f",
   "metadata": {},
   "outputs": [],
   "source": [
    "def cholesky(M):\n",
    "    n = M.shape[0]\n",
    "    L = np.zeros((n,n), dtype = float)\n",
    "\n",
    "    for i in range(n):\n",
    "        for j in range(i+1):\n",
    "            if i == j:\n",
    "                s = 0\n",
    "                for k in range(i):\n",
    "                    s += L[j, k] ** 2 \n",
    "                L[i, j] = np.sqrt(M[i, j] - s) \n",
    "            elif i>j:\n",
    "                s = 0\n",
    "                for k in range(i):\n",
    "                    s += L[i,k] * L[j,k]\n",
    "                L[i, j] = (M[i, j] - s) / L[j, j]\n",
    "    return L\n",
    "\n",
    "def back_sub(A, b):\n",
    "    n = len(b)\n",
    "    x = np.zeros(len(b), dtype = float)\n",
    "    for i in range(n - 1, -1, -1):\n",
    "        if A[i, i] == 0:\n",
    "            raise ValueError(\"Matrix is singular\")\n",
    "        x[i] = b[i]\n",
    "        for j in range(i+1, n):\n",
    "            x[i] -= A[i, j] * x[j]\n",
    "        x[i] = x[i] / A[i, i]\n",
    "    return x\n",
    "\n",
    "def fwd_elim(A, b):\n",
    "    n = len(b)\n",
    "    x = np.zeros(len(b), dtype = float)\n",
    "    \n",
    "    for i in range(n):\n",
    "        if A[i, i] == 0:\n",
    "            raise ValueError(\"Matrix is singular\")\n",
    "        x[i] = b[i]\n",
    "        for j in range(0, i):\n",
    "            x[i] -= A[i, j] * x[j]\n",
    "        x[i] = x[i] / A[i, i]\n",
    "    \n",
    "    return x"
   ]
  },
  {
   "cell_type": "code",
   "execution_count": 28,
   "id": "d3e5ecf1-b306-438e-b41a-472a8366a079",
   "metadata": {},
   "outputs": [
    {
     "name": "stdout",
     "output_type": "stream",
     "text": [
      "[ 2.41468531  2.41738928 -0.2009324 ]\n"
     ]
    },
    {
     "data": {
      "image/png": "[encoded data removed]",
      "text/plain": [
       "<Figure size 640x480 with 1 Axes>"
      ]
     },
     "metadata": {},
     "output_type": "display_data"
    }
   ],
   "source": [
    "M = cholesky(N)\n",
    "y = fwd_elim(M, z)\n",
    "l = back_sub(M.T, y)\n",
    "print(l)\n",
    "\n",
    "def poly(t, w):\n",
    "    n = len(w)\n",
    "    z = 0\n",
    "    for i in range(n):\n",
    "        z += w[i] * (t ** i)\n",
    "    return z\n",
    "\n",
    "t = np.linspace(0, 5, 200, endpoint = True)\n",
    "f = poly(t, l)\n",
    "\n",
    "fig = plt.figure()\n",
    "plt.plot(t, f)\n",
    "plt.xlabel('t')\n",
    "plt.ylabel('y')\n",
    "#plt.scatter(x, y)\n",
    "fig.savefig('soln.png')"
   ]
  },
  {
   "cell_type": "code",
   "execution_count": null,
   "id": "e80c400b-b323-48c8-b69b-e30fd72dd08d",
   "metadata": {},
   "outputs": [],
   "source": []
  }
 ],
 "metadata": {
  "kernelspec": {
   "display_name": "Python 3 (ipykernel)",
   "language": "python",
   "name": "python3"
  },
  "language_info": {
   "codemirror_mode": {
    "name": "ipython",
    "version": 3
   },
   "file_extension": ".py",
   "mimetype": "text/x-python",
   "name": "python",
   "nbconvert_exporter": "python",
   "pygments_lexer": "ipython3",
   "version": "3.10.12"
  }
 },
 "nbformat": 4,
 "nbformat_minor": 5
}
